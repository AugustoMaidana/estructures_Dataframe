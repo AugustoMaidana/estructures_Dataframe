{
 "metadata": {
  "language_info": {
   "codemirror_mode": {
    "name": "ipython",
    "version": 3
   },
   "file_extension": ".py",
   "mimetype": "text/x-python",
   "name": "python",
   "nbconvert_exporter": "python",
   "pygments_lexer": "ipython3",
   "version": "3.9.2"
  },
  "orig_nbformat": 2,
  "kernelspec": {
   "name": "python392jvsc74a57bd0f6cdc19f49f27d304540c94e517753cec0fc989b1dfe618742c310b8a679cd44",
   "display_name": "Python 3.9.2 64-bit ('myenv': conda)"
  }
 },
 "nbformat": 4,
 "nbformat_minor": 2,
 "cells": [
  {
   "source": [
    "# Tasca 5: Exploració de les dades\n",
    "\n",
    "Descripció :\n",
    "\n",
    ">Familiaritza't amb les tècniques d'exploració de les dades mitjantçant la estructura de dades, Dataframe amb la llibreria Pandas.\n",
    "\n",
    "## Nivell 1\n",
    "\n",
    "* Exercici 1 :\n",
    "Descarrega el data set Airlines Delay: Airline on-time statistics and delay causes i carrega’l a un pandas Dataframe. Explora les dades que conté, i queda’t únicament amb les columnes que consideris rellevants."
   ],
   "cell_type": "markdown",
   "metadata": {}
  },
  {
   "cell_type": "code",
   "execution_count": 2,
   "metadata": {},
   "outputs": [],
   "source": [
    "# Render our plots inline\n",
    "%matplotlib inline\n",
    "\n",
    "import pandas as pd\n",
    "import matplotlib.pyplot as plt\n",
    "\n",
    "#plt.show(block=True)\n",
    "#pd.describe_option()\n",
    "plt.style.use('ggplot')\n",
    "#plt.style.use('default')\n",
    "plt.rcParams['figure.figsize'] = (15, 5)"
   ]
  },
  {
   "source": [
    "# Data Expo 2009 - Airline on-time performance\n",
    "\n",
    "The data consists of flight arrival and departure details for all commercial flights within the USA, from October 1987 to April 2008.\n",
    "\n",
    "# Reading data from CSVs\n",
    "\n",
    "The read_csv function takes a file in csv format and converts it to a Pandas DataFrame:"
   ],
   "cell_type": "markdown",
   "metadata": {}
  },
  {
   "cell_type": "code",
   "execution_count": 3,
   "metadata": {},
   "outputs": [
    {
     "output_type": "execute_result",
     "data": {
      "text/plain": [
       "         Unnamed: 0  Year  Month  DayofMonth  DayOfWeek  DepTime  CRSDepTime  \\\n",
       "0                 0  2008      1           3          4   2003.0        1955   \n",
       "1                 1  2008      1           3          4    754.0         735   \n",
       "2                 2  2008      1           3          4    628.0         620   \n",
       "3                 4  2008      1           3          4   1829.0        1755   \n",
       "4                 5  2008      1           3          4   1940.0        1915   \n",
       "...             ...   ...    ...         ...        ...      ...         ...   \n",
       "1936753     7009710  2008     12          13          6   1250.0        1220   \n",
       "1936754     7009717  2008     12          13          6    657.0         600   \n",
       "1936755     7009718  2008     12          13          6   1007.0         847   \n",
       "1936756     7009726  2008     12          13          6   1251.0        1240   \n",
       "1936757     7009727  2008     12          13          6   1110.0        1103   \n",
       "\n",
       "         ArrTime  CRSArrTime UniqueCarrier  ...  TaxiIn TaxiOut  Cancelled  \\\n",
       "0         2211.0        2225            WN  ...     4.0     8.0          0   \n",
       "1         1002.0        1000            WN  ...     5.0    10.0          0   \n",
       "2          804.0         750            WN  ...     3.0    17.0          0   \n",
       "3         1959.0        1925            WN  ...     3.0    10.0          0   \n",
       "4         2121.0        2110            WN  ...     4.0    10.0          0   \n",
       "...          ...         ...           ...  ...     ...     ...        ...   \n",
       "1936753   1617.0        1552            DL  ...     9.0    18.0          0   \n",
       "1936754    904.0         749            DL  ...    15.0    34.0          0   \n",
       "1936755   1149.0        1010            DL  ...     8.0    32.0          0   \n",
       "1936756   1446.0        1437            DL  ...    13.0    13.0          0   \n",
       "1936757   1413.0        1418            DL  ...     8.0    11.0          0   \n",
       "\n",
       "         CancellationCode  Diverted  CarrierDelay  WeatherDelay NASDelay  \\\n",
       "0                       N         0           NaN           NaN      NaN   \n",
       "1                       N         0           NaN           NaN      NaN   \n",
       "2                       N         0           NaN           NaN      NaN   \n",
       "3                       N         0           2.0           0.0      0.0   \n",
       "4                       N         0           NaN           NaN      NaN   \n",
       "...                   ...       ...           ...           ...      ...   \n",
       "1936753                 N         0           3.0           0.0      0.0   \n",
       "1936754                 N         0           0.0          57.0     18.0   \n",
       "1936755                 N         0           1.0           0.0     19.0   \n",
       "1936756                 N         0           NaN           NaN      NaN   \n",
       "1936757                 N         0           NaN           NaN      NaN   \n",
       "\n",
       "        SecurityDelay  LateAircraftDelay  \n",
       "0                 NaN                NaN  \n",
       "1                 NaN                NaN  \n",
       "2                 NaN                NaN  \n",
       "3                 0.0               32.0  \n",
       "4                 NaN                NaN  \n",
       "...               ...                ...  \n",
       "1936753           0.0               22.0  \n",
       "1936754           0.0                0.0  \n",
       "1936755           0.0               79.0  \n",
       "1936756           NaN                NaN  \n",
       "1936757           NaN                NaN  \n",
       "\n",
       "[1936758 rows x 30 columns]"
      ],
      "text/html": "<div>\n<style scoped>\n    .dataframe tbody tr th:only-of-type {\n        vertical-align: middle;\n    }\n\n    .dataframe tbody tr th {\n        vertical-align: top;\n    }\n\n    .dataframe thead th {\n        text-align: right;\n    }\n</style>\n<table border=\"1\" class=\"dataframe\">\n  <thead>\n    <tr style=\"text-align: right;\">\n      <th></th>\n      <th>Unnamed: 0</th>\n      <th>Year</th>\n      <th>Month</th>\n      <th>DayofMonth</th>\n      <th>DayOfWeek</th>\n      <th>DepTime</th>\n      <th>CRSDepTime</th>\n      <th>ArrTime</th>\n      <th>CRSArrTime</th>\n      <th>UniqueCarrier</th>\n      <th>...</th>\n      <th>TaxiIn</th>\n      <th>TaxiOut</th>\n      <th>Cancelled</th>\n      <th>CancellationCode</th>\n      <th>Diverted</th>\n      <th>CarrierDelay</th>\n      <th>WeatherDelay</th>\n      <th>NASDelay</th>\n      <th>SecurityDelay</th>\n      <th>LateAircraftDelay</th>\n    </tr>\n  </thead>\n  <tbody>\n    <tr>\n      <th>0</th>\n      <td>0</td>\n      <td>2008</td>\n      <td>1</td>\n      <td>3</td>\n      <td>4</td>\n      <td>2003.0</td>\n      <td>1955</td>\n      <td>2211.0</td>\n      <td>2225</td>\n      <td>WN</td>\n      <td>...</td>\n      <td>4.0</td>\n      <td>8.0</td>\n      <td>0</td>\n      <td>N</td>\n      <td>0</td>\n      <td>NaN</td>\n      <td>NaN</td>\n      <td>NaN</td>\n      <td>NaN</td>\n      <td>NaN</td>\n    </tr>\n    <tr>\n      <th>1</th>\n      <td>1</td>\n      <td>2008</td>\n      <td>1</td>\n      <td>3</td>\n      <td>4</td>\n      <td>754.0</td>\n      <td>735</td>\n      <td>1002.0</td>\n      <td>1000</td>\n      <td>WN</td>\n      <td>...</td>\n      <td>5.0</td>\n      <td>10.0</td>\n      <td>0</td>\n      <td>N</td>\n      <td>0</td>\n      <td>NaN</td>\n      <td>NaN</td>\n      <td>NaN</td>\n      <td>NaN</td>\n      <td>NaN</td>\n    </tr>\n    <tr>\n      <th>2</th>\n      <td>2</td>\n      <td>2008</td>\n      <td>1</td>\n      <td>3</td>\n      <td>4</td>\n      <td>628.0</td>\n      <td>620</td>\n      <td>804.0</td>\n      <td>750</td>\n      <td>WN</td>\n      <td>...</td>\n      <td>3.0</td>\n      <td>17.0</td>\n      <td>0</td>\n      <td>N</td>\n      <td>0</td>\n      <td>NaN</td>\n      <td>NaN</td>\n      <td>NaN</td>\n      <td>NaN</td>\n      <td>NaN</td>\n    </tr>\n    <tr>\n      <th>3</th>\n      <td>4</td>\n      <td>2008</td>\n      <td>1</td>\n      <td>3</td>\n      <td>4</td>\n      <td>1829.0</td>\n      <td>1755</td>\n      <td>1959.0</td>\n      <td>1925</td>\n      <td>WN</td>\n      <td>...</td>\n      <td>3.0</td>\n      <td>10.0</td>\n      <td>0</td>\n      <td>N</td>\n      <td>0</td>\n      <td>2.0</td>\n      <td>0.0</td>\n      <td>0.0</td>\n      <td>0.0</td>\n      <td>32.0</td>\n    </tr>\n    <tr>\n      <th>4</th>\n      <td>5</td>\n      <td>2008</td>\n      <td>1</td>\n      <td>3</td>\n      <td>4</td>\n      <td>1940.0</td>\n      <td>1915</td>\n      <td>2121.0</td>\n      <td>2110</td>\n      <td>WN</td>\n      <td>...</td>\n      <td>4.0</td>\n      <td>10.0</td>\n      <td>0</td>\n      <td>N</td>\n      <td>0</td>\n      <td>NaN</td>\n      <td>NaN</td>\n      <td>NaN</td>\n      <td>NaN</td>\n      <td>NaN</td>\n    </tr>\n    <tr>\n      <th>...</th>\n      <td>...</td>\n      <td>...</td>\n      <td>...</td>\n      <td>...</td>\n      <td>...</td>\n      <td>...</td>\n      <td>...</td>\n      <td>...</td>\n      <td>...</td>\n      <td>...</td>\n      <td>...</td>\n      <td>...</td>\n      <td>...</td>\n      <td>...</td>\n      <td>...</td>\n      <td>...</td>\n      <td>...</td>\n      <td>...</td>\n      <td>...</td>\n      <td>...</td>\n      <td>...</td>\n    </tr>\n    <tr>\n      <th>1936753</th>\n      <td>7009710</td>\n      <td>2008</td>\n      <td>12</td>\n      <td>13</td>\n      <td>6</td>\n      <td>1250.0</td>\n      <td>1220</td>\n      <td>1617.0</td>\n      <td>1552</td>\n      <td>DL</td>\n      <td>...</td>\n      <td>9.0</td>\n      <td>18.0</td>\n      <td>0</td>\n      <td>N</td>\n      <td>0</td>\n      <td>3.0</td>\n      <td>0.0</td>\n      <td>0.0</td>\n      <td>0.0</td>\n      <td>22.0</td>\n    </tr>\n    <tr>\n      <th>1936754</th>\n      <td>7009717</td>\n      <td>2008</td>\n      <td>12</td>\n      <td>13</td>\n      <td>6</td>\n      <td>657.0</td>\n      <td>600</td>\n      <td>904.0</td>\n      <td>749</td>\n      <td>DL</td>\n      <td>...</td>\n      <td>15.0</td>\n      <td>34.0</td>\n      <td>0</td>\n      <td>N</td>\n      <td>0</td>\n      <td>0.0</td>\n      <td>57.0</td>\n      <td>18.0</td>\n      <td>0.0</td>\n      <td>0.0</td>\n    </tr>\n    <tr>\n      <th>1936755</th>\n      <td>7009718</td>\n      <td>2008</td>\n      <td>12</td>\n      <td>13</td>\n      <td>6</td>\n      <td>1007.0</td>\n      <td>847</td>\n      <td>1149.0</td>\n      <td>1010</td>\n      <td>DL</td>\n      <td>...</td>\n      <td>8.0</td>\n      <td>32.0</td>\n      <td>0</td>\n      <td>N</td>\n      <td>0</td>\n      <td>1.0</td>\n      <td>0.0</td>\n      <td>19.0</td>\n      <td>0.0</td>\n      <td>79.0</td>\n    </tr>\n    <tr>\n      <th>1936756</th>\n      <td>7009726</td>\n      <td>2008</td>\n      <td>12</td>\n      <td>13</td>\n      <td>6</td>\n      <td>1251.0</td>\n      <td>1240</td>\n      <td>1446.0</td>\n      <td>1437</td>\n      <td>DL</td>\n      <td>...</td>\n      <td>13.0</td>\n      <td>13.0</td>\n      <td>0</td>\n      <td>N</td>\n      <td>0</td>\n      <td>NaN</td>\n      <td>NaN</td>\n      <td>NaN</td>\n      <td>NaN</td>\n      <td>NaN</td>\n    </tr>\n    <tr>\n      <th>1936757</th>\n      <td>7009727</td>\n      <td>2008</td>\n      <td>12</td>\n      <td>13</td>\n      <td>6</td>\n      <td>1110.0</td>\n      <td>1103</td>\n      <td>1413.0</td>\n      <td>1418</td>\n      <td>DL</td>\n      <td>...</td>\n      <td>8.0</td>\n      <td>11.0</td>\n      <td>0</td>\n      <td>N</td>\n      <td>0</td>\n      <td>NaN</td>\n      <td>NaN</td>\n      <td>NaN</td>\n      <td>NaN</td>\n      <td>NaN</td>\n    </tr>\n  </tbody>\n</table>\n<p>1936758 rows × 30 columns</p>\n</div>"
     },
     "metadata": {},
     "execution_count": 3
    }
   ],
   "source": [
    "# Reading data from CSV: with CSV files a single line is needed to load the data:\n",
    "DelayedFlights_df = pd.read_csv('DelayedFlights.csv')\n",
    "# let's see the DataFrame\n",
    "DelayedFlights_df"
   ]
  },
  {
   "source": [
    "# Brief description of the columns and their types and units\n",
    "\n",
    "**Year** :\n",
    "Year of the flight (stored as factor).\n",
    "\n",
    "**Month** :\n",
    "Month of the flight (stored as factor).\n",
    "\n",
    "**DayOfMonth** :\n",
    "Day of the Month (1 to 31, stored as integer).\n",
    "\n",
    "**DayOfWeek** :\n",
    "Day of the Week (stored as factor).\n",
    "\n",
    "**DepTime** :\n",
    "Actual Departure Time (stored as float, local time in hhmm)\n",
    "\n",
    "**CRSDepTime** :\n",
    "Computer Reservation System (scheduled) Departure Time (stored as float).\n",
    "\n",
    "**ArrTime** :\n",
    "Actual Arrival Time (stored as float, local time in hhmm)\n",
    "\n",
    "**CRSArrTime** :\n",
    "Computer Reservation System (scheduled) Arrival Time (stored as float).\n",
    "\n",
    "**UniqueCarrier** :\n",
    "Carrier ID (stored as factor).\n",
    "\n",
    "**FlightNum** :\n",
    "Flight Number (stored as factor).\n",
    "\n",
    "**TailNum** :\n",
    "Plane's Tail Number (stored as factor).\n",
    "\n",
    "**ActualElapsedTime** :\n",
    "Actual Elapsed Time of the flight, in minutes (stored as integer).\n",
    "\n",
    "**CRSElapsedTime** :\n",
    "Computer Reservation System (scheduled) Elapsed Time of the flight, in minutes (stored as integer).\n",
    "\n",
    "**AirTime** :\n",
    "Airborne Time for the flight, in minutes (stored as integer).\n",
    "\n",
    "**ArrDelay** :\n",
    "Arrival Delay, in minutes (stored as integer).\n",
    "\n",
    "**DepDelay** :\n",
    "Departure Delay, in minutes (stored as integer).\n",
    "\n",
    "**Origin** :\n",
    "Originating airport code (stored as factor).\n",
    "\n",
    "**Dest** :\n",
    "Destination airport code (stored as factor).\n",
    "\n",
    "**Distance** :\n",
    "Flight Distance between airports (stored as integer, distance in miles = 1,60934 km)\n",
    "\n",
    "**TaxiIn** :\n",
    "Taxi time from wheels down to arrival at the gate, in minutes (stored as integer).\n",
    "\n",
    "**TaxiOut** :\n",
    "Taxi time from departure from the gate to wheels up, in minutes (stored as integer).\n",
    "\n",
    "**Cancelled** :\n",
    "Cancellation status (stored as logical, 1 = canceled)\n",
    "\n",
    "**CancellationCode** :\n",
    "Cancellation code, if applicable (stored as factor) A = Carrier, B = Weather, C = National Air System, D = Security\n",
    "\n",
    "**Diverted** :\n",
    "Diversion status (stored as logical, 1 = diverted)\n",
    "\n",
    "**CarrierDelay** :\n",
    "Delay, in minutes, attributable to the carrier (stored integer).\n",
    "\n",
    "**WeatherDelay** :\n",
    "Delay, in minutes, attributable to weather factors (stored as integer).\n",
    "\n",
    "**NASDelay** :\n",
    "Delay, in minutes, attributable to the National Aviation System (stored as integer).\n",
    "\n",
    "**SecurityDelay** :\n",
    "Delay, in minutes, attributable to security factors (stored as integer).\n",
    "\n",
    "**LateAircraftDelay** :\n",
    "Delay, in minutes, attributable to late-arriving aircraft (stored as integer).\n",
    "\n",
    "CSVs don't have indexes like our DataFrames, so all we need to do is just designate the index_col when reading\n"
   ],
   "cell_type": "markdown",
   "metadata": {}
  },
  {
   "cell_type": "code",
   "execution_count": 4,
   "metadata": {},
   "outputs": [
    {
     "output_type": "stream",
     "name": "stderr",
     "text": [
      "C:\\Users\\anaconda3\\envs\\myenv\\lib\\site-packages\\numpy\\lib\\arraysetops.py:583: FutureWarning: elementwise comparison failed; returning scalar instead, but in the future will perform elementwise comparison\n  mask |= (ar1 == a)\n"
     ]
    },
    {
     "output_type": "execute_result",
     "data": {
      "text/plain": [
       "   Year  Month  DayofMonth  DayOfWeek  DepTime  CRSDepTime  ArrTime  \\\n",
       "0  2008      1           3          4   2003.0        1955   2211.0   \n",
       "1  2008      1           3          4    754.0         735   1002.0   \n",
       "2  2008      1           3          4    628.0         620    804.0   \n",
       "\n",
       "   CRSArrTime UniqueCarrier  FlightNum  ... TaxiIn  TaxiOut  Cancelled  \\\n",
       "0        2225            WN        335  ...    4.0      8.0          0   \n",
       "1        1000            WN       3231  ...    5.0     10.0          0   \n",
       "2         750            WN        448  ...    3.0     17.0          0   \n",
       "\n",
       "   CancellationCode  Diverted  CarrierDelay WeatherDelay NASDelay  \\\n",
       "0                 N         0           NaN          NaN      NaN   \n",
       "1                 N         0           NaN          NaN      NaN   \n",
       "2                 N         0           NaN          NaN      NaN   \n",
       "\n",
       "   SecurityDelay  LateAircraftDelay  \n",
       "0            NaN                NaN  \n",
       "1            NaN                NaN  \n",
       "2            NaN                NaN  \n",
       "\n",
       "[3 rows x 29 columns]"
      ],
      "text/html": "<div>\n<style scoped>\n    .dataframe tbody tr th:only-of-type {\n        vertical-align: middle;\n    }\n\n    .dataframe tbody tr th {\n        vertical-align: top;\n    }\n\n    .dataframe thead th {\n        text-align: right;\n    }\n</style>\n<table border=\"1\" class=\"dataframe\">\n  <thead>\n    <tr style=\"text-align: right;\">\n      <th></th>\n      <th>Year</th>\n      <th>Month</th>\n      <th>DayofMonth</th>\n      <th>DayOfWeek</th>\n      <th>DepTime</th>\n      <th>CRSDepTime</th>\n      <th>ArrTime</th>\n      <th>CRSArrTime</th>\n      <th>UniqueCarrier</th>\n      <th>FlightNum</th>\n      <th>...</th>\n      <th>TaxiIn</th>\n      <th>TaxiOut</th>\n      <th>Cancelled</th>\n      <th>CancellationCode</th>\n      <th>Diverted</th>\n      <th>CarrierDelay</th>\n      <th>WeatherDelay</th>\n      <th>NASDelay</th>\n      <th>SecurityDelay</th>\n      <th>LateAircraftDelay</th>\n    </tr>\n  </thead>\n  <tbody>\n    <tr>\n      <th>0</th>\n      <td>2008</td>\n      <td>1</td>\n      <td>3</td>\n      <td>4</td>\n      <td>2003.0</td>\n      <td>1955</td>\n      <td>2211.0</td>\n      <td>2225</td>\n      <td>WN</td>\n      <td>335</td>\n      <td>...</td>\n      <td>4.0</td>\n      <td>8.0</td>\n      <td>0</td>\n      <td>N</td>\n      <td>0</td>\n      <td>NaN</td>\n      <td>NaN</td>\n      <td>NaN</td>\n      <td>NaN</td>\n      <td>NaN</td>\n    </tr>\n    <tr>\n      <th>1</th>\n      <td>2008</td>\n      <td>1</td>\n      <td>3</td>\n      <td>4</td>\n      <td>754.0</td>\n      <td>735</td>\n      <td>1002.0</td>\n      <td>1000</td>\n      <td>WN</td>\n      <td>3231</td>\n      <td>...</td>\n      <td>5.0</td>\n      <td>10.0</td>\n      <td>0</td>\n      <td>N</td>\n      <td>0</td>\n      <td>NaN</td>\n      <td>NaN</td>\n      <td>NaN</td>\n      <td>NaN</td>\n      <td>NaN</td>\n    </tr>\n    <tr>\n      <th>2</th>\n      <td>2008</td>\n      <td>1</td>\n      <td>3</td>\n      <td>4</td>\n      <td>628.0</td>\n      <td>620</td>\n      <td>804.0</td>\n      <td>750</td>\n      <td>WN</td>\n      <td>448</td>\n      <td>...</td>\n      <td>3.0</td>\n      <td>17.0</td>\n      <td>0</td>\n      <td>N</td>\n      <td>0</td>\n      <td>NaN</td>\n      <td>NaN</td>\n      <td>NaN</td>\n      <td>NaN</td>\n      <td>NaN</td>\n    </tr>\n  </tbody>\n</table>\n<p>3 rows × 29 columns</p>\n</div>"
     },
     "metadata": {},
     "execution_count": 4
    }
   ],
   "source": [
    "# Reading data from CSVs\n",
    "DelayedFlights_df = pd.read_csv('DelayedFlights.csv', index_col=0)\n",
    "# let's look again at the first 3 rows of the DataFrame\n",
    "DelayedFlights_df[:3]"
   ]
  },
  {
   "source": [
    "Here we are setting the index to be column zero. The vast majority of CSVs do not have an index column, so we usually won't have to worry about this step.\n",
    "\n",
    "However, if we see that the file is broken, read_csv has a lot of options that will allow us to fix it. For example, if :\n",
    "\n",
    "* Change the column separator to a ;\n",
    "* Set the encoding to '_latin1_' (the default is '_utf8_')\n",
    "* Parse the dates in the 'Date' column\n",
    "* Tell it that our dates have the date first instead of the month first\n",
    "* Set the index to be the 'Date' column\n",
    "\n",
    "<!--- -->\n",
    "[//]: # \n",
    "\n",
    ">``DelayedFlights_df = pd.read_csv('DelayedFlights.csv', sep=';', encoding='latin1', parse_dates=['Date'],dayfirst=True, index_col='Date')``\n",
    "\n",
    "\n",
    "# Visualization of the data\n",
    "\n",
    "The first thing we are going to do to visualize the new dataset (pandas dataframe) DelayedFlights_df is to print a few rows to have them as a visual reference. For this we are going to use the head method that returns the first 5 rows of the DataFrame:"
   ],
   "cell_type": "markdown",
   "metadata": {}
  },
  {
   "cell_type": "code",
   "execution_count": 5,
   "metadata": {},
   "outputs": [
    {
     "output_type": "execute_result",
     "data": {
      "text/plain": [
       "   Year  Month  DayofMonth  DayOfWeek  DepTime  CRSDepTime  ArrTime  \\\n",
       "0  2008      1           3          4   2003.0        1955   2211.0   \n",
       "1  2008      1           3          4    754.0         735   1002.0   \n",
       "2  2008      1           3          4    628.0         620    804.0   \n",
       "4  2008      1           3          4   1829.0        1755   1959.0   \n",
       "5  2008      1           3          4   1940.0        1915   2121.0   \n",
       "\n",
       "   CRSArrTime UniqueCarrier  FlightNum  ... TaxiIn  TaxiOut  Cancelled  \\\n",
       "0        2225            WN        335  ...    4.0      8.0          0   \n",
       "1        1000            WN       3231  ...    5.0     10.0          0   \n",
       "2         750            WN        448  ...    3.0     17.0          0   \n",
       "4        1925            WN       3920  ...    3.0     10.0          0   \n",
       "5        2110            WN        378  ...    4.0     10.0          0   \n",
       "\n",
       "   CancellationCode  Diverted  CarrierDelay WeatherDelay NASDelay  \\\n",
       "0                 N         0           NaN          NaN      NaN   \n",
       "1                 N         0           NaN          NaN      NaN   \n",
       "2                 N         0           NaN          NaN      NaN   \n",
       "4                 N         0           2.0          0.0      0.0   \n",
       "5                 N         0           NaN          NaN      NaN   \n",
       "\n",
       "   SecurityDelay  LateAircraftDelay  \n",
       "0            NaN                NaN  \n",
       "1            NaN                NaN  \n",
       "2            NaN                NaN  \n",
       "4            0.0               32.0  \n",
       "5            NaN                NaN  \n",
       "\n",
       "[5 rows x 29 columns]"
      ],
      "text/html": "<div>\n<style scoped>\n    .dataframe tbody tr th:only-of-type {\n        vertical-align: middle;\n    }\n\n    .dataframe tbody tr th {\n        vertical-align: top;\n    }\n\n    .dataframe thead th {\n        text-align: right;\n    }\n</style>\n<table border=\"1\" class=\"dataframe\">\n  <thead>\n    <tr style=\"text-align: right;\">\n      <th></th>\n      <th>Year</th>\n      <th>Month</th>\n      <th>DayofMonth</th>\n      <th>DayOfWeek</th>\n      <th>DepTime</th>\n      <th>CRSDepTime</th>\n      <th>ArrTime</th>\n      <th>CRSArrTime</th>\n      <th>UniqueCarrier</th>\n      <th>FlightNum</th>\n      <th>...</th>\n      <th>TaxiIn</th>\n      <th>TaxiOut</th>\n      <th>Cancelled</th>\n      <th>CancellationCode</th>\n      <th>Diverted</th>\n      <th>CarrierDelay</th>\n      <th>WeatherDelay</th>\n      <th>NASDelay</th>\n      <th>SecurityDelay</th>\n      <th>LateAircraftDelay</th>\n    </tr>\n  </thead>\n  <tbody>\n    <tr>\n      <th>0</th>\n      <td>2008</td>\n      <td>1</td>\n      <td>3</td>\n      <td>4</td>\n      <td>2003.0</td>\n      <td>1955</td>\n      <td>2211.0</td>\n      <td>2225</td>\n      <td>WN</td>\n      <td>335</td>\n      <td>...</td>\n      <td>4.0</td>\n      <td>8.0</td>\n      <td>0</td>\n      <td>N</td>\n      <td>0</td>\n      <td>NaN</td>\n      <td>NaN</td>\n      <td>NaN</td>\n      <td>NaN</td>\n      <td>NaN</td>\n    </tr>\n    <tr>\n      <th>1</th>\n      <td>2008</td>\n      <td>1</td>\n      <td>3</td>\n      <td>4</td>\n      <td>754.0</td>\n      <td>735</td>\n      <td>1002.0</td>\n      <td>1000</td>\n      <td>WN</td>\n      <td>3231</td>\n      <td>...</td>\n      <td>5.0</td>\n      <td>10.0</td>\n      <td>0</td>\n      <td>N</td>\n      <td>0</td>\n      <td>NaN</td>\n      <td>NaN</td>\n      <td>NaN</td>\n      <td>NaN</td>\n      <td>NaN</td>\n    </tr>\n    <tr>\n      <th>2</th>\n      <td>2008</td>\n      <td>1</td>\n      <td>3</td>\n      <td>4</td>\n      <td>628.0</td>\n      <td>620</td>\n      <td>804.0</td>\n      <td>750</td>\n      <td>WN</td>\n      <td>448</td>\n      <td>...</td>\n      <td>3.0</td>\n      <td>17.0</td>\n      <td>0</td>\n      <td>N</td>\n      <td>0</td>\n      <td>NaN</td>\n      <td>NaN</td>\n      <td>NaN</td>\n      <td>NaN</td>\n      <td>NaN</td>\n    </tr>\n    <tr>\n      <th>4</th>\n      <td>2008</td>\n      <td>1</td>\n      <td>3</td>\n      <td>4</td>\n      <td>1829.0</td>\n      <td>1755</td>\n      <td>1959.0</td>\n      <td>1925</td>\n      <td>WN</td>\n      <td>3920</td>\n      <td>...</td>\n      <td>3.0</td>\n      <td>10.0</td>\n      <td>0</td>\n      <td>N</td>\n      <td>0</td>\n      <td>2.0</td>\n      <td>0.0</td>\n      <td>0.0</td>\n      <td>0.0</td>\n      <td>32.0</td>\n    </tr>\n    <tr>\n      <th>5</th>\n      <td>2008</td>\n      <td>1</td>\n      <td>3</td>\n      <td>4</td>\n      <td>1940.0</td>\n      <td>1915</td>\n      <td>2121.0</td>\n      <td>2110</td>\n      <td>WN</td>\n      <td>378</td>\n      <td>...</td>\n      <td>4.0</td>\n      <td>10.0</td>\n      <td>0</td>\n      <td>N</td>\n      <td>0</td>\n      <td>NaN</td>\n      <td>NaN</td>\n      <td>NaN</td>\n      <td>NaN</td>\n      <td>NaN</td>\n    </tr>\n  </tbody>\n</table>\n<p>5 rows × 29 columns</p>\n</div>"
     },
     "metadata": {},
     "execution_count": 5
    }
   ],
   "source": [
    "# Preview the first 5 lines of the loaded data \n",
    "DelayedFlights_df.head()"
   ]
  },
  {
   "source": [
    "By default the first five rows of the DataFrame are shown, but we could also pass a number: DelayedFlights_df.head(10) and the first ten rows would be shown.\n",
    "\n",
    "In the same way to see the last five rows we use the .tail() method:"
   ],
   "cell_type": "markdown",
   "metadata": {}
  },
  {
   "cell_type": "code",
   "execution_count": 6,
   "metadata": {},
   "outputs": [
    {
     "output_type": "execute_result",
     "data": {
      "text/plain": [
       "         Year  Month  DayofMonth  DayOfWeek  DepTime  CRSDepTime  ArrTime  \\\n",
       "7009710  2008     12          13          6   1250.0        1220   1617.0   \n",
       "7009717  2008     12          13          6    657.0         600    904.0   \n",
       "7009718  2008     12          13          6   1007.0         847   1149.0   \n",
       "7009726  2008     12          13          6   1251.0        1240   1446.0   \n",
       "7009727  2008     12          13          6   1110.0        1103   1413.0   \n",
       "\n",
       "         CRSArrTime UniqueCarrier  FlightNum  ... TaxiIn  TaxiOut  Cancelled  \\\n",
       "7009710        1552            DL       1621  ...    9.0     18.0          0   \n",
       "7009717         749            DL       1631  ...   15.0     34.0          0   \n",
       "7009718        1010            DL       1631  ...    8.0     32.0          0   \n",
       "7009726        1437            DL       1639  ...   13.0     13.0          0   \n",
       "7009727        1418            DL       1641  ...    8.0     11.0          0   \n",
       "\n",
       "         CancellationCode  Diverted  CarrierDelay WeatherDelay NASDelay  \\\n",
       "7009710                 N         0           3.0          0.0      0.0   \n",
       "7009717                 N         0           0.0         57.0     18.0   \n",
       "7009718                 N         0           1.0          0.0     19.0   \n",
       "7009726                 N         0           NaN          NaN      NaN   \n",
       "7009727                 N         0           NaN          NaN      NaN   \n",
       "\n",
       "         SecurityDelay  LateAircraftDelay  \n",
       "7009710            0.0               22.0  \n",
       "7009717            0.0                0.0  \n",
       "7009718            0.0               79.0  \n",
       "7009726            NaN                NaN  \n",
       "7009727            NaN                NaN  \n",
       "\n",
       "[5 rows x 29 columns]"
      ],
      "text/html": "<div>\n<style scoped>\n    .dataframe tbody tr th:only-of-type {\n        vertical-align: middle;\n    }\n\n    .dataframe tbody tr th {\n        vertical-align: top;\n    }\n\n    .dataframe thead th {\n        text-align: right;\n    }\n</style>\n<table border=\"1\" class=\"dataframe\">\n  <thead>\n    <tr style=\"text-align: right;\">\n      <th></th>\n      <th>Year</th>\n      <th>Month</th>\n      <th>DayofMonth</th>\n      <th>DayOfWeek</th>\n      <th>DepTime</th>\n      <th>CRSDepTime</th>\n      <th>ArrTime</th>\n      <th>CRSArrTime</th>\n      <th>UniqueCarrier</th>\n      <th>FlightNum</th>\n      <th>...</th>\n      <th>TaxiIn</th>\n      <th>TaxiOut</th>\n      <th>Cancelled</th>\n      <th>CancellationCode</th>\n      <th>Diverted</th>\n      <th>CarrierDelay</th>\n      <th>WeatherDelay</th>\n      <th>NASDelay</th>\n      <th>SecurityDelay</th>\n      <th>LateAircraftDelay</th>\n    </tr>\n  </thead>\n  <tbody>\n    <tr>\n      <th>7009710</th>\n      <td>2008</td>\n      <td>12</td>\n      <td>13</td>\n      <td>6</td>\n      <td>1250.0</td>\n      <td>1220</td>\n      <td>1617.0</td>\n      <td>1552</td>\n      <td>DL</td>\n      <td>1621</td>\n      <td>...</td>\n      <td>9.0</td>\n      <td>18.0</td>\n      <td>0</td>\n      <td>N</td>\n      <td>0</td>\n      <td>3.0</td>\n      <td>0.0</td>\n      <td>0.0</td>\n      <td>0.0</td>\n      <td>22.0</td>\n    </tr>\n    <tr>\n      <th>7009717</th>\n      <td>2008</td>\n      <td>12</td>\n      <td>13</td>\n      <td>6</td>\n      <td>657.0</td>\n      <td>600</td>\n      <td>904.0</td>\n      <td>749</td>\n      <td>DL</td>\n      <td>1631</td>\n      <td>...</td>\n      <td>15.0</td>\n      <td>34.0</td>\n      <td>0</td>\n      <td>N</td>\n      <td>0</td>\n      <td>0.0</td>\n      <td>57.0</td>\n      <td>18.0</td>\n      <td>0.0</td>\n      <td>0.0</td>\n    </tr>\n    <tr>\n      <th>7009718</th>\n      <td>2008</td>\n      <td>12</td>\n      <td>13</td>\n      <td>6</td>\n      <td>1007.0</td>\n      <td>847</td>\n      <td>1149.0</td>\n      <td>1010</td>\n      <td>DL</td>\n      <td>1631</td>\n      <td>...</td>\n      <td>8.0</td>\n      <td>32.0</td>\n      <td>0</td>\n      <td>N</td>\n      <td>0</td>\n      <td>1.0</td>\n      <td>0.0</td>\n      <td>19.0</td>\n      <td>0.0</td>\n      <td>79.0</td>\n    </tr>\n    <tr>\n      <th>7009726</th>\n      <td>2008</td>\n      <td>12</td>\n      <td>13</td>\n      <td>6</td>\n      <td>1251.0</td>\n      <td>1240</td>\n      <td>1446.0</td>\n      <td>1437</td>\n      <td>DL</td>\n      <td>1639</td>\n      <td>...</td>\n      <td>13.0</td>\n      <td>13.0</td>\n      <td>0</td>\n      <td>N</td>\n      <td>0</td>\n      <td>NaN</td>\n      <td>NaN</td>\n      <td>NaN</td>\n      <td>NaN</td>\n      <td>NaN</td>\n    </tr>\n    <tr>\n      <th>7009727</th>\n      <td>2008</td>\n      <td>12</td>\n      <td>13</td>\n      <td>6</td>\n      <td>1110.0</td>\n      <td>1103</td>\n      <td>1413.0</td>\n      <td>1418</td>\n      <td>DL</td>\n      <td>1641</td>\n      <td>...</td>\n      <td>8.0</td>\n      <td>11.0</td>\n      <td>0</td>\n      <td>N</td>\n      <td>0</td>\n      <td>NaN</td>\n      <td>NaN</td>\n      <td>NaN</td>\n      <td>NaN</td>\n      <td>NaN</td>\n    </tr>\n  </tbody>\n</table>\n<p>5 rows × 29 columns</p>\n</div>"
     },
     "metadata": {},
     "execution_count": 6
    }
   ],
   "source": [
    "# Preview the last 5 lines of the loaded data \n",
    "DelayedFlights_df.tail()"
   ]
  },
  {
   "source": [
    "This method also accepts a number \"n\" to print the last \"n\" rows.\n",
    "\n",
    "Typically, after loading a dataset, we like to look at the first few rows to see the names of each column, the index and some example values for each of the rows.\n",
    "\n",
    "# Get information about the data\n",
    "\n",
    "One of the first commands you should run after loading data is .info(). This method gives us some essential details about the dataset, such as the number of rows and columns, the number of non-null values, what type of data is in each column, and how much memory the DataFrame is using.\n",
    "\n",
    "\n"
   ],
   "cell_type": "markdown",
   "metadata": {}
  },
  {
   "cell_type": "code",
   "execution_count": 7,
   "metadata": {},
   "outputs": [
    {
     "output_type": "stream",
     "name": "stdout",
     "text": [
      "<class 'pandas.core.frame.DataFrame'>\nInt64Index: 1936758 entries, 0 to 7009727\nData columns (total 29 columns):\n #   Column             Non-Null Count    Dtype  \n---  ------             --------------    -----  \n 0   Year               1936758 non-null  int64  \n 1   Month              1936758 non-null  int64  \n 2   DayofMonth         1936758 non-null  int64  \n 3   DayOfWeek          1936758 non-null  int64  \n 4   DepTime            1936758 non-null  float64\n 5   CRSDepTime         1936758 non-null  int64  \n 6   ArrTime            1929648 non-null  float64\n 7   CRSArrTime         1936758 non-null  int64  \n 8   UniqueCarrier      1936758 non-null  object \n 9   FlightNum          1936758 non-null  int64  \n 10  TailNum            1936753 non-null  object \n 11  ActualElapsedTime  1928371 non-null  float64\n 12  CRSElapsedTime     1936560 non-null  float64\n 13  AirTime            1928371 non-null  float64\n 14  ArrDelay           1928371 non-null  float64\n 15  DepDelay           1936758 non-null  float64\n 16  Origin             1936758 non-null  object \n 17  Dest               1936758 non-null  object \n 18  Distance           1936758 non-null  int64  \n 19  TaxiIn             1929648 non-null  float64\n 20  TaxiOut            1936303 non-null  float64\n 21  Cancelled          1936758 non-null  int64  \n 22  CancellationCode   1936758 non-null  object \n 23  Diverted           1936758 non-null  int64  \n 24  CarrierDelay       1247488 non-null  float64\n 25  WeatherDelay       1247488 non-null  float64\n 26  NASDelay           1247488 non-null  float64\n 27  SecurityDelay      1247488 non-null  float64\n 28  LateAircraftDelay  1247488 non-null  float64\ndtypes: float64(14), int64(10), object(5)\nmemory usage: 443.3+ MB\n"
     ]
    }
   ],
   "source": [
    "# This method prints a summary of a DataFrame and returns None.\n",
    "# Parameters: verbose=None, buf=None, max_cols=None, memory_usage=None, null_counts=None\n",
    "DelayedFlights_df.info(show_counts=True) "
   ]
  },
  {
   "source": [
    "Another very fast and useful attribute is .shape, which produces only a tuple of (rows, columns). We are going to use .shape as many times as we perform cleanup and transformation operations on the data. It is a quick and efficient way to know how many rows have been removed during the cleaning process."
   ],
   "cell_type": "markdown",
   "metadata": {}
  },
  {
   "cell_type": "code",
   "execution_count": 8,
   "metadata": {},
   "outputs": [
    {
     "output_type": "execute_result",
     "data": {
      "text/plain": [
       "(1936758, 29)"
      ]
     },
     "metadata": {},
     "execution_count": 8
    }
   ],
   "source": [
    "# .shape return a tuple representing the dimensionality of the DataFrame.\n",
    "DelayedFlights_df.shape"
   ]
  },
  {
   "source": [
    "So we have 1936758 rows and 30 columns in our DataFrame. Note that in our Delayed Flights data set we have some obvious missing values in the next columns:\n",
    "\n",
    "* ArrTime\n",
    "* TailNum\n",
    "* ActualElapsedTime\n",
    "* CRSElapsedTime\n",
    "* AirTime\n",
    "* ArrDelay\n",
    "* TaxiIn\n",
    "* TaxiOut\n",
    "* CarrierDelay\n",
    "* WeatherDelay\n",
    "* NASDelay\n",
    "* SecurityDelay\n",
    "* LateAircraftDelay\n",
    "\n",
    "where the number of non-zero values is less than the total number of rows 1936758. Next we will see how we treat them."
   ],
   "cell_type": "markdown",
   "metadata": {}
  },
  {
   "source": [
    "# Duplicate handling\n",
    "\n",
    "This dataset has no duplicate rows, but it is always important to verify that duplicate rows are not being added.\n",
    "\n",
    "To demonstrate this, let's simply duplicate our Delayed Flights DataFrame by adding it to itself:"
   ],
   "cell_type": "markdown",
   "metadata": {}
  },
  {
   "cell_type": "code",
   "execution_count": 9,
   "metadata": {},
   "outputs": [
    {
     "output_type": "execute_result",
     "data": {
      "text/plain": [
       "(3873516, 29)"
      ]
     },
     "metadata": {},
     "execution_count": 9
    }
   ],
   "source": [
    "# We are duplicating the data set\n",
    "temp_df = DelayedFlights_df.append(DelayedFlights_df)\n",
    "# Let's use .shape once again\n",
    "temp_df.shape"
   ]
  },
  {
   "source": [
    "We use append() to get a copy of the DataFrame, this way we avoid affecting the original DataFrame and work on the copy stored in temp and not on the real data.\n",
    "\n",
    "If we look at the output of .shape we can quickly see that the rows of our DataFrame have been duplicated.\n",
    "\n",
    "Now let's try to remove the duplicates:"
   ],
   "cell_type": "markdown",
   "metadata": {}
  },
  {
   "cell_type": "code",
   "execution_count": 10,
   "metadata": {},
   "outputs": [
    {
     "output_type": "execute_result",
     "data": {
      "text/plain": [
       "(1936756, 29)"
      ]
     },
     "metadata": {},
     "execution_count": 10
    }
   ],
   "source": [
    "# Duplicate elimination\n",
    "temp_df = temp_df.drop_duplicates()\n",
    "# Let's use .shape once again\n",
    "temp_df.shape"
   ]
  },
  {
   "source": [
    "As with append(), the drop_duplicates() method returns a copy of the DataFrame, but this time without duplicates. Calling .shape confirms that we are back to the original dataset with 1936756 rows.\n",
    "\n",
    "Using the pandas argument with the keyword inplace=True we modify the DataFrame object directly avoiding having to keep assigning DataFrames to the same variable."
   ],
   "cell_type": "markdown",
   "metadata": {}
  },
  {
   "cell_type": "code",
   "execution_count": 11,
   "metadata": {},
   "outputs": [
    {
     "output_type": "execute_result",
     "data": {
      "text/plain": [
       "(1936756, 29)"
      ]
     },
     "metadata": {},
     "execution_count": 11
    }
   ],
   "source": [
    "temp_df.drop_duplicates(inplace=True)\n",
    "# display\n",
    "temp_df.shape"
   ]
  },
  {
   "source": [
    "Now temp_df will already have the data transformed directly.\n",
    "\n",
    "Another interesting argument for drop_duplicates() is keep, it has three options \n",
    "\n",
    "first: (default) Removes duplicates except the first occurrence.\n",
    "last: Removes duplicates except the last occurrence.\n",
    "false: Removes all duplicates.\n",
    "In our case the default argument of keep is first. This means that if two rows are the same, pandas will remove the second row and keep the first. Using last has the opposite effect: the first row is removed.\n",
    "\n",
    "keep, on the other hand, will remove all duplicates. If two rows are the same, both will be removed. See what happens with temp_df:"
   ],
   "cell_type": "markdown",
   "metadata": {}
  },
  {
   "cell_type": "code",
   "execution_count": 12,
   "metadata": {},
   "outputs": [
    {
     "output_type": "execute_result",
     "data": {
      "text/plain": [
       "(0, 29)"
      ]
     },
     "metadata": {},
     "execution_count": 12
    }
   ],
   "source": [
    "temp_df = DelayedFlights_df.append(DelayedFlights_df)  # make a new copy\n",
    "\n",
    "temp_df.drop_duplicates(inplace=True, keep=False)\n",
    "# display\n",
    "temp_df.shape"
   ]
  },
  {
   "source": [
    "Since all rows were duplicates, keep=False deleted all rows, leaving the rows at zero. If one wonders why we would want to do that, one reason is that this option allows us to locate all duplicates in the data set. The following explains how to do this by means of conditional selections.\n",
    "\n",
    "# Column cleaning\n",
    "\n",
    "To facilitate the selection of data by column name we should spend a little time to simplify or rename names that are too convoluted or have symbols, words in upper and lower case, spaces or typos.\n",
    "\n",
    "Next we are going to print the column names of the data set:"
   ],
   "cell_type": "markdown",
   "metadata": {}
  },
  {
   "cell_type": "code",
   "execution_count": 13,
   "metadata": {},
   "outputs": [
    {
     "output_type": "execute_result",
     "data": {
      "text/plain": [
       "Index(['Year', 'Month', 'DayofMonth', 'DayOfWeek', 'DepTime', 'CRSDepTime',\n",
       "       'ArrTime', 'CRSArrTime', 'UniqueCarrier', 'FlightNum', 'TailNum',\n",
       "       'ActualElapsedTime', 'CRSElapsedTime', 'AirTime', 'ArrDelay',\n",
       "       'DepDelay', 'Origin', 'Dest', 'Distance', 'TaxiIn', 'TaxiOut',\n",
       "       'Cancelled', 'CancellationCode', 'Diverted', 'CarrierDelay',\n",
       "       'WeatherDelay', 'NASDelay', 'SecurityDelay', 'LateAircraftDelay'],\n",
       "      dtype='object')"
      ]
     },
     "metadata": {},
     "execution_count": 13
    }
   ],
   "source": [
    "DelayedFlights_df.columns"
   ]
  },
  {
   "source": [
    "It is also very useful when trying to select data by column and we receive a Key Error, this .columns method allows us to simply copy and paste.\n",
    "\n",
    "The .rename() method is used to rename certain or all columns using a dict."
   ],
   "cell_type": "markdown",
   "metadata": {}
  },
  {
   "cell_type": "code",
   "execution_count": 14,
   "metadata": {},
   "outputs": [
    {
     "output_type": "execute_result",
     "data": {
      "text/plain": [
       "Index(['Year', 'Month', 'Day Of Month', 'Day Of Week', 'Departure Time',\n",
       "       'CRS Departure Time', 'Arrival Time', 'CRS Arrival Time',\n",
       "       'Unique Carrier', 'Flight Number', 'Tail Number', 'Actual Elapsed Time',\n",
       "       'CRS Elapsed Time', 'Air Time', 'Arrival Delay', 'Departure Delay',\n",
       "       'Origin', 'Dest', 'Distance', 'Taxi In', 'Taxi Out', 'Cancelled',\n",
       "       'Cancellation Code', 'Diverted', 'Carrier Delay', 'Weather Delay',\n",
       "       'NAS Delay', 'Security Delay', 'Late Aircraft Delay'],\n",
       "      dtype='object')"
      ]
     },
     "metadata": {},
     "execution_count": 14
    }
   ],
   "source": [
    "DelayedFlights_df.rename(columns={\n",
    "    'DayofMonth':'Day Of Month',\n",
    "    'DayOfWeek':'Day Of Week',\n",
    "    'DepTime':'Departure Time',\n",
    "    'CRSDepTime':'CRS Departure Time',\n",
    "    'ArrTime':'Arrival Time',\n",
    "    'CRSArrTime':'CRS Arrival Time',\n",
    "    'UniqueCarrier':'Unique Carrier',\n",
    "    'FlightNum':'Flight Number',\n",
    "    'TailNum':'Tail Number',\n",
    "    'ActualElapsedTime':'Actual Elapsed Time',\n",
    "    'CRSElapsedTime':'CRS Elapsed Time',\n",
    "    'AirTime':'Air Time',\n",
    "    'ArrDelay':'Arrival Delay',\n",
    "    'DepDelay':'Departure Delay',\n",
    "    'TaxiIn':'Taxi In',\n",
    "    'TaxiOut':'Taxi Out',\n",
    "    'CancellationCode':'Cancellation Code',\n",
    "    'CarrierDelay':'Carrier Delay',\n",
    "    'WeatherDelay':'Weather Delay',\n",
    "    'NASDelay':'NAS Delay',\n",
    "    'SecurityDelay':'Security Delay',\n",
    "    'LateAircraftDelay':'Late Aircraft Delay'\n",
    "    }, inplace = True)\n",
    "\n",
    "DelayedFlights_df.columns"
   ]
  },
  {
   "source": [
    "To lowercase all names we will use a list of column names:"
   ],
   "cell_type": "markdown",
   "metadata": {}
  },
  {
   "cell_type": "code",
   "execution_count": 15,
   "metadata": {},
   "outputs": [
    {
     "output_type": "execute_result",
     "data": {
      "text/plain": [
       "Index(['year', 'month', 'day_of_month', 'day_of_week', 'departure_time',\n",
       "       'crs_departure_time', 'arrival_time', 'crs_arrival_time',\n",
       "       'unique_carrier', 'flight_number', 'tail_number', 'actual_elapsed_time',\n",
       "       'crs_elapsed_time', 'air_time', 'arrival_delay', 'departure_delay',\n",
       "       'origin', 'dest', 'distance', 'taxi_in', 'taxi_out', 'cancelled',\n",
       "       'cancellation_code', 'diverted', 'carrier_delay', 'weather_delay',\n",
       "       'nas_delay', 'security_delay', 'late_aircraft_delay'],\n",
       "      dtype='object')"
      ]
     },
     "metadata": {},
     "execution_count": 15
    }
   ],
   "source": [
    "DelayedFlights_df.columns = [\n",
    "'year',\n",
    "'month',\n",
    "'day_of_month',\n",
    "'day_of_week',\n",
    "'departure_time',\n",
    "'crs_departure_time',\n",
    "'arrival_time',\n",
    "'crs_arrival_time',\n",
    "'unique_carrier',\n",
    "'flight_number',\n",
    "'tail_number',\n",
    "'actual_elapsed_time',\n",
    "'crs_elapsed_time',\n",
    "'air_time',\n",
    "'arrival_delay',\n",
    "'departure_delay',\n",
    "'origin',\n",
    "'dest',\n",
    "'distance',\n",
    "'taxi_in',\n",
    "'taxi_out',\n",
    "'cancelled',\n",
    "'cancellation_code',\n",
    "'diverted',\n",
    "'carrier_delay',\n",
    "'weather_delay',\n",
    "'nas_delay',\n",
    "'security_delay',\n",
    "'late_aircraft_delay']\n",
    "\n",
    "DelayedFlights_df.columns"
   ]
  },
  {
   "source": [
    "Another option but with less work and less prone to error is to make a list comprehension:"
   ],
   "cell_type": "markdown",
   "metadata": {}
  },
  {
   "cell_type": "code",
   "execution_count": 16,
   "metadata": {},
   "outputs": [
    {
     "output_type": "execute_result",
     "data": {
      "text/plain": [
       "Index(['year', 'month', 'day_of_month', 'day_of_week', 'departure_time',\n",
       "       'crs_departure_time', 'arrival_time', 'crs_arrival_time',\n",
       "       'unique_carrier', 'flight_number', 'tail_number', 'actual_elapsed_time',\n",
       "       'crs_elapsed_time', 'air_time', 'arrival_delay', 'departure_delay',\n",
       "       'origin', 'dest', 'distance', 'taxi_in', 'taxi_out', 'cancelled',\n",
       "       'cancellation_code', 'diverted', 'carrier_delay', 'weather_delay',\n",
       "       'nas_delay', 'security_delay', 'late_aircraft_delay'],\n",
       "      dtype='object')"
      ]
     },
     "metadata": {},
     "execution_count": 16
    }
   ],
   "source": [
    "# change from uppercase to lowercase\n",
    "DelayedFlights_df.columns = [col.lower() for col in DelayedFlights_df]\n",
    "# replacing blank spaces with '_' \n",
    "DelayedFlights_df.columns =[column.replace(\" \", \"_\") for column in DelayedFlights_df.columns]\n",
    "# display\n",
    "DelayedFlights_df.columns"
   ]
  },
  {
   "source": [
    "The use of list and dict are very useful when working with pandas and data in general.\n",
    "\n",
    "It is a very good idea to lowercase, remove special characters and replace spaces with underscores if you are going to work with a data set for some time."
   ],
   "cell_type": "markdown",
   "metadata": {}
  },
  {
   "source": [
    "# How to work with missing values\n",
    "\n",
    "When exploring data, we are likely to encounter missing or null values, which are essentially placeholders for non-existent values. Most commonly, we will encounter Python's None or NumPy's np.nan, each of which will be handled differently depending on the case.\n",
    "\n",
    "There are two ways to deal with nulls:\n",
    "\n",
    "1- Get rid of rows or columns with nulls.\n",
    "\n",
    "2- Replace nulls with non-null values using a technique known as imputation.\n",
    "\n",
    "First we must obtain the total number of null values for each column of our data set:"
   ],
   "cell_type": "markdown",
   "metadata": {}
  },
  {
   "cell_type": "code",
   "execution_count": 17,
   "metadata": {},
   "outputs": [
    {
     "output_type": "execute_result",
     "data": {
      "text/plain": [
       "          year  month  day_of_month  day_of_week  departure_time  \\\n",
       "0        False  False         False        False           False   \n",
       "1        False  False         False        False           False   \n",
       "2        False  False         False        False           False   \n",
       "4        False  False         False        False           False   \n",
       "5        False  False         False        False           False   \n",
       "...        ...    ...           ...          ...             ...   \n",
       "7009710  False  False         False        False           False   \n",
       "7009717  False  False         False        False           False   \n",
       "7009718  False  False         False        False           False   \n",
       "7009726  False  False         False        False           False   \n",
       "7009727  False  False         False        False           False   \n",
       "\n",
       "         crs_departure_time  arrival_time  crs_arrival_time  unique_carrier  \\\n",
       "0                     False         False             False           False   \n",
       "1                     False         False             False           False   \n",
       "2                     False         False             False           False   \n",
       "4                     False         False             False           False   \n",
       "5                     False         False             False           False   \n",
       "...                     ...           ...               ...             ...   \n",
       "7009710               False         False             False           False   \n",
       "7009717               False         False             False           False   \n",
       "7009718               False         False             False           False   \n",
       "7009726               False         False             False           False   \n",
       "7009727               False         False             False           False   \n",
       "\n",
       "         flight_number  ...  taxi_in  taxi_out  cancelled  cancellation_code  \\\n",
       "0                False  ...    False     False      False              False   \n",
       "1                False  ...    False     False      False              False   \n",
       "2                False  ...    False     False      False              False   \n",
       "4                False  ...    False     False      False              False   \n",
       "5                False  ...    False     False      False              False   \n",
       "...                ...  ...      ...       ...        ...                ...   \n",
       "7009710          False  ...    False     False      False              False   \n",
       "7009717          False  ...    False     False      False              False   \n",
       "7009718          False  ...    False     False      False              False   \n",
       "7009726          False  ...    False     False      False              False   \n",
       "7009727          False  ...    False     False      False              False   \n",
       "\n",
       "         diverted  carrier_delay  weather_delay  nas_delay  security_delay  \\\n",
       "0           False           True           True       True            True   \n",
       "1           False           True           True       True            True   \n",
       "2           False           True           True       True            True   \n",
       "4           False          False          False      False           False   \n",
       "5           False           True           True       True            True   \n",
       "...           ...            ...            ...        ...             ...   \n",
       "7009710     False          False          False      False           False   \n",
       "7009717     False          False          False      False           False   \n",
       "7009718     False          False          False      False           False   \n",
       "7009726     False           True           True       True            True   \n",
       "7009727     False           True           True       True            True   \n",
       "\n",
       "         late_aircraft_delay  \n",
       "0                       True  \n",
       "1                       True  \n",
       "2                       True  \n",
       "4                      False  \n",
       "5                       True  \n",
       "...                      ...  \n",
       "7009710                False  \n",
       "7009717                False  \n",
       "7009718                False  \n",
       "7009726                 True  \n",
       "7009727                 True  \n",
       "\n",
       "[1936758 rows x 29 columns]"
      ],
      "text/html": "<div>\n<style scoped>\n    .dataframe tbody tr th:only-of-type {\n        vertical-align: middle;\n    }\n\n    .dataframe tbody tr th {\n        vertical-align: top;\n    }\n\n    .dataframe thead th {\n        text-align: right;\n    }\n</style>\n<table border=\"1\" class=\"dataframe\">\n  <thead>\n    <tr style=\"text-align: right;\">\n      <th></th>\n      <th>year</th>\n      <th>month</th>\n      <th>day_of_month</th>\n      <th>day_of_week</th>\n      <th>departure_time</th>\n      <th>crs_departure_time</th>\n      <th>arrival_time</th>\n      <th>crs_arrival_time</th>\n      <th>unique_carrier</th>\n      <th>flight_number</th>\n      <th>...</th>\n      <th>taxi_in</th>\n      <th>taxi_out</th>\n      <th>cancelled</th>\n      <th>cancellation_code</th>\n      <th>diverted</th>\n      <th>carrier_delay</th>\n      <th>weather_delay</th>\n      <th>nas_delay</th>\n      <th>security_delay</th>\n      <th>late_aircraft_delay</th>\n    </tr>\n  </thead>\n  <tbody>\n    <tr>\n      <th>0</th>\n      <td>False</td>\n      <td>False</td>\n      <td>False</td>\n      <td>False</td>\n      <td>False</td>\n      <td>False</td>\n      <td>False</td>\n      <td>False</td>\n      <td>False</td>\n      <td>False</td>\n      <td>...</td>\n      <td>False</td>\n      <td>False</td>\n      <td>False</td>\n      <td>False</td>\n      <td>False</td>\n      <td>True</td>\n      <td>True</td>\n      <td>True</td>\n      <td>True</td>\n      <td>True</td>\n    </tr>\n    <tr>\n      <th>1</th>\n      <td>False</td>\n      <td>False</td>\n      <td>False</td>\n      <td>False</td>\n      <td>False</td>\n      <td>False</td>\n      <td>False</td>\n      <td>False</td>\n      <td>False</td>\n      <td>False</td>\n      <td>...</td>\n      <td>False</td>\n      <td>False</td>\n      <td>False</td>\n      <td>False</td>\n      <td>False</td>\n      <td>True</td>\n      <td>True</td>\n      <td>True</td>\n      <td>True</td>\n      <td>True</td>\n    </tr>\n    <tr>\n      <th>2</th>\n      <td>False</td>\n      <td>False</td>\n      <td>False</td>\n      <td>False</td>\n      <td>False</td>\n      <td>False</td>\n      <td>False</td>\n      <td>False</td>\n      <td>False</td>\n      <td>False</td>\n      <td>...</td>\n      <td>False</td>\n      <td>False</td>\n      <td>False</td>\n      <td>False</td>\n      <td>False</td>\n      <td>True</td>\n      <td>True</td>\n      <td>True</td>\n      <td>True</td>\n      <td>True</td>\n    </tr>\n    <tr>\n      <th>4</th>\n      <td>False</td>\n      <td>False</td>\n      <td>False</td>\n      <td>False</td>\n      <td>False</td>\n      <td>False</td>\n      <td>False</td>\n      <td>False</td>\n      <td>False</td>\n      <td>False</td>\n      <td>...</td>\n      <td>False</td>\n      <td>False</td>\n      <td>False</td>\n      <td>False</td>\n      <td>False</td>\n      <td>False</td>\n      <td>False</td>\n      <td>False</td>\n      <td>False</td>\n      <td>False</td>\n    </tr>\n    <tr>\n      <th>5</th>\n      <td>False</td>\n      <td>False</td>\n      <td>False</td>\n      <td>False</td>\n      <td>False</td>\n      <td>False</td>\n      <td>False</td>\n      <td>False</td>\n      <td>False</td>\n      <td>False</td>\n      <td>...</td>\n      <td>False</td>\n      <td>False</td>\n      <td>False</td>\n      <td>False</td>\n      <td>False</td>\n      <td>True</td>\n      <td>True</td>\n      <td>True</td>\n      <td>True</td>\n      <td>True</td>\n    </tr>\n    <tr>\n      <th>...</th>\n      <td>...</td>\n      <td>...</td>\n      <td>...</td>\n      <td>...</td>\n      <td>...</td>\n      <td>...</td>\n      <td>...</td>\n      <td>...</td>\n      <td>...</td>\n      <td>...</td>\n      <td>...</td>\n      <td>...</td>\n      <td>...</td>\n      <td>...</td>\n      <td>...</td>\n      <td>...</td>\n      <td>...</td>\n      <td>...</td>\n      <td>...</td>\n      <td>...</td>\n      <td>...</td>\n    </tr>\n    <tr>\n      <th>7009710</th>\n      <td>False</td>\n      <td>False</td>\n      <td>False</td>\n      <td>False</td>\n      <td>False</td>\n      <td>False</td>\n      <td>False</td>\n      <td>False</td>\n      <td>False</td>\n      <td>False</td>\n      <td>...</td>\n      <td>False</td>\n      <td>False</td>\n      <td>False</td>\n      <td>False</td>\n      <td>False</td>\n      <td>False</td>\n      <td>False</td>\n      <td>False</td>\n      <td>False</td>\n      <td>False</td>\n    </tr>\n    <tr>\n      <th>7009717</th>\n      <td>False</td>\n      <td>False</td>\n      <td>False</td>\n      <td>False</td>\n      <td>False</td>\n      <td>False</td>\n      <td>False</td>\n      <td>False</td>\n      <td>False</td>\n      <td>False</td>\n      <td>...</td>\n      <td>False</td>\n      <td>False</td>\n      <td>False</td>\n      <td>False</td>\n      <td>False</td>\n      <td>False</td>\n      <td>False</td>\n      <td>False</td>\n      <td>False</td>\n      <td>False</td>\n    </tr>\n    <tr>\n      <th>7009718</th>\n      <td>False</td>\n      <td>False</td>\n      <td>False</td>\n      <td>False</td>\n      <td>False</td>\n      <td>False</td>\n      <td>False</td>\n      <td>False</td>\n      <td>False</td>\n      <td>False</td>\n      <td>...</td>\n      <td>False</td>\n      <td>False</td>\n      <td>False</td>\n      <td>False</td>\n      <td>False</td>\n      <td>False</td>\n      <td>False</td>\n      <td>False</td>\n      <td>False</td>\n      <td>False</td>\n    </tr>\n    <tr>\n      <th>7009726</th>\n      <td>False</td>\n      <td>False</td>\n      <td>False</td>\n      <td>False</td>\n      <td>False</td>\n      <td>False</td>\n      <td>False</td>\n      <td>False</td>\n      <td>False</td>\n      <td>False</td>\n      <td>...</td>\n      <td>False</td>\n      <td>False</td>\n      <td>False</td>\n      <td>False</td>\n      <td>False</td>\n      <td>True</td>\n      <td>True</td>\n      <td>True</td>\n      <td>True</td>\n      <td>True</td>\n    </tr>\n    <tr>\n      <th>7009727</th>\n      <td>False</td>\n      <td>False</td>\n      <td>False</td>\n      <td>False</td>\n      <td>False</td>\n      <td>False</td>\n      <td>False</td>\n      <td>False</td>\n      <td>False</td>\n      <td>False</td>\n      <td>...</td>\n      <td>False</td>\n      <td>False</td>\n      <td>False</td>\n      <td>False</td>\n      <td>False</td>\n      <td>True</td>\n      <td>True</td>\n      <td>True</td>\n      <td>True</td>\n      <td>True</td>\n    </tr>\n  </tbody>\n</table>\n<p>1936758 rows × 29 columns</p>\n</div>"
     },
     "metadata": {},
     "execution_count": 17
    }
   ],
   "source": [
    "DelayedFlights_df.isnull()"
   ]
  },
  {
   "source": [
    "Using isnull() we will get for each cell of the DataFrame whether it is True or False depending on whether the cell is null or not.\n",
    "\n",
    "To count the number of nulls in each column we use a function to sum them:"
   ],
   "cell_type": "markdown",
   "metadata": {}
  },
  {
   "cell_type": "code",
   "execution_count": 18,
   "metadata": {},
   "outputs": [
    {
     "output_type": "execute_result",
     "data": {
      "text/plain": [
       "year                        0\n",
       "month                       0\n",
       "day_of_month                0\n",
       "day_of_week                 0\n",
       "departure_time              0\n",
       "crs_departure_time          0\n",
       "arrival_time             7110\n",
       "crs_arrival_time            0\n",
       "unique_carrier              0\n",
       "flight_number               0\n",
       "tail_number                 5\n",
       "actual_elapsed_time      8387\n",
       "crs_elapsed_time          198\n",
       "air_time                 8387\n",
       "arrival_delay            8387\n",
       "departure_delay             0\n",
       "origin                      0\n",
       "dest                        0\n",
       "distance                    0\n",
       "taxi_in                  7110\n",
       "taxi_out                  455\n",
       "cancelled                   0\n",
       "cancellation_code           0\n",
       "diverted                    0\n",
       "carrier_delay          689270\n",
       "weather_delay          689270\n",
       "nas_delay              689270\n",
       "security_delay         689270\n",
       "late_aircraft_delay    689270\n",
       "dtype: int64"
      ]
     },
     "metadata": {},
     "execution_count": 18
    }
   ],
   "source": [
    "DelayedFlights_df.isnull().sum()"
   ]
  },
  {
   "source": [
    ".isnull() is not very useful in isolation but it is useful when used as in this case with another method such as sum().\n",
    "\n",
    "We see that the data has null values for:\n",
    "\n",
    "| Column Name :       | Nulls :            |\n",
    "|:--------------------|:-------------------|\n",
    "|arrival_time:        |    7110            |\n",
    "|tail_num:            |       5            |\n",
    "|actual_elapsed_time: |    8387            |\n",
    "|crs_elapsed_time:    |     198            |\n",
    "|air_time:            |    8387            |\n",
    "|arrival_delay:       |    8387            |\n",
    "|taxi_in:             |    7110            |\n",
    "|taxi_out:            |     455            |\n",
    "|carrier_delay:       |  689270            |\n",
    "|weather_delay:       |  689270            |\n",
    "|nas_delay:           |  689270            | \n",
    "|security_delay:      |  689270            | \n",
    "|late_aircraft_delay: |  689270            |"
   ],
   "cell_type": "markdown",
   "metadata": {}
  },
  {
   "source": [
    "# Null value removal\n",
    "\n",
    "This decision requires a thorough understanding of the data and its context. Usually the removal of null data is performed only when a small amount of missing data is involved.\n",
    "\n",
    "We will remove null data as follows:"
   ],
   "cell_type": "markdown",
   "metadata": {}
  },
  {
   "cell_type": "code",
   "execution_count": 19,
   "metadata": {},
   "outputs": [],
   "source": [
    "# Removing null values\n",
    "# This operation will delete any row with at least a single null value, but it will return a new DataFrame without altering the original one. \n",
    "DelayedFlights_df.dropna(inplace = True)"
   ]
  },
  {
   "source": [
    "By this operation any row with at least one null value has been removed. Using the inplace=True method we get a new DataFrame that includes these changes. \n",
    "\n",
    "In this way we have removed a large number of rows from the dataset that contained null data. This operation produces a large amount of wasted data because there is perfectly valid data in the other columns of these same deleted rows. For this reason, we will now use another alternative called imputation.\n",
    "\n",
    "This alternative consists of eliminating the columns with null values (by setting axis = 1) instead of eliminating the rows:"
   ],
   "cell_type": "markdown",
   "metadata": {}
  },
  {
   "cell_type": "code",
   "execution_count": 20,
   "metadata": {},
   "outputs": [],
   "source": [
    "# Other than just dropping rows, you can also drop columns with null values by setting axis=1:\n",
    "DelayedFlights_df.dropna(axis = 1, inplace = True)"
   ]
  },
  {
   "source": [
    "In the data set, this operation would remove all columns with null values.\n",
    "\n",
    "To verify the results of the operation we use the .shape method:"
   ],
   "cell_type": "markdown",
   "metadata": {}
  },
  {
   "cell_type": "code",
   "execution_count": 21,
   "metadata": {},
   "outputs": [
    {
     "output_type": "execute_result",
     "data": {
      "text/plain": [
       "(1247486, 29)"
      ]
     },
     "metadata": {},
     "execution_count": 21
    }
   ],
   "source": [
    "DelayedFlights_df.shape"
   ]
  },
  {
   "source": [
    "# Imputation\n",
    "\n",
    "Imputation is a very useful technique for retaining valuable data that have null values. As it happens in this case the elimination of rows with null values means the elimination of too large a part of the data set. To avoid this we will impute each null value by another value such as the mean or median of that column because it is more convenient.\n",
    "\n",
    "We will analyze the imputation of the null values in the arrival_delay column. To do this we will extract that column in its own variable:"
   ],
   "cell_type": "markdown",
   "metadata": {}
  },
  {
   "cell_type": "code",
   "execution_count": 22,
   "metadata": {},
   "outputs": [
    {
     "output_type": "execute_result",
     "data": {
      "text/plain": [
       "4          34.0\n",
       "6          57.0\n",
       "11         80.0\n",
       "16         15.0\n",
       "18         16.0\n",
       "           ... \n",
       "7009705    64.0\n",
       "7009709    17.0\n",
       "7009710    25.0\n",
       "7009717    75.0\n",
       "7009718    99.0\n",
       "Name: arrival_delay, Length: 1247486, dtype: float64"
      ]
     },
     "metadata": {},
     "execution_count": 22
    }
   ],
   "source": [
    "arrival_delay_col = DelayedFlights_df['arrival_delay']\n",
    "\n",
    "arrival_delay_col"
   ]
  },
  {
   "source": [
    "The way to select columns in a DataFrame is done using square brackets. The dict keys in a DataFrame are the column names, so when selecting columns in a DataFrame, we use square brackets like when accessing a Python dictionary.\n",
    "\n",
    "So now arrival_delay_col contains the Series:"
   ],
   "cell_type": "markdown",
   "metadata": {}
  },
  {
   "cell_type": "code",
   "execution_count": 23,
   "metadata": {},
   "outputs": [
    {
     "output_type": "execute_result",
     "data": {
      "text/plain": [
       "4     34.0\n",
       "6     57.0\n",
       "11    80.0\n",
       "16    15.0\n",
       "18    16.0\n",
       "Name: arrival_delay, dtype: float64"
      ]
     },
     "metadata": {},
     "execution_count": 23
    }
   ],
   "source": [
    "arrival_delay_col.head()"
   ]
  },
  {
   "source": [
    "The format of the Series is similar to that of a DataFrame.\n",
    "\n",
    "Let's replace the missing values in arrival_delay with the mean of the Series. To do this, we will first calculate the mean value:\n"
   ],
   "cell_type": "markdown",
   "metadata": {}
  },
  {
   "cell_type": "code",
   "execution_count": 24,
   "metadata": {},
   "outputs": [
    {
     "output_type": "execute_result",
     "data": {
      "text/plain": [
       "63.291035731062316"
      ]
     },
     "metadata": {},
     "execution_count": 24
    }
   ],
   "source": [
    "arrival_delay_mean = arrival_delay_col.mean()\n",
    "\n",
    "arrival_delay_mean"
   ]
  },
  {
   "source": [
    "Now let's fill the nulls of the series with the mean using fillna():"
   ],
   "cell_type": "markdown",
   "metadata": {}
  },
  {
   "cell_type": "code",
   "execution_count": 25,
   "metadata": {},
   "outputs": [],
   "source": [
    "arrival_delay_col.fillna(arrival_delay_mean, inplace = True)"
   ]
  },
  {
   "source": [
    "All nulls in the arrivaldelay series have been replaced by the column mean. Using inplace = True we have directly updated the original DataFrame DelayedFlights_df:"
   ],
   "cell_type": "markdown",
   "metadata": {}
  },
  {
   "cell_type": "code",
   "execution_count": 26,
   "metadata": {},
   "outputs": [
    {
     "output_type": "execute_result",
     "data": {
      "text/plain": [
       "year                   0\n",
       "month                  0\n",
       "day_of_month           0\n",
       "day_of_week            0\n",
       "departure_time         0\n",
       "crs_departure_time     0\n",
       "arrival_time           0\n",
       "crs_arrival_time       0\n",
       "unique_carrier         0\n",
       "flight_number          0\n",
       "tail_number            0\n",
       "actual_elapsed_time    0\n",
       "crs_elapsed_time       0\n",
       "air_time               0\n",
       "arrival_delay          0\n",
       "departure_delay        0\n",
       "origin                 0\n",
       "dest                   0\n",
       "distance               0\n",
       "taxi_in                0\n",
       "taxi_out               0\n",
       "cancelled              0\n",
       "cancellation_code      0\n",
       "diverted               0\n",
       "carrier_delay          0\n",
       "weather_delay          0\n",
       "nas_delay              0\n",
       "security_delay         0\n",
       "late_aircraft_delay    0\n",
       "dtype: int64"
      ]
     },
     "metadata": {},
     "execution_count": 26
    }
   ],
   "source": [
    "DelayedFlights_df.isnull().sum()"
   ]
  },
  {
   "source": [
    "Replacing an entire column with the same value is easiest, but we could also try to make replacements at a higher granularity according to some classification if that is the case. For example, we could find the mean arrival delay for each of the delay reasons that occur (carrier_delay, weather_delay, nas_delay, security_delay, late_aircraft_delay) and replace the nulls for each reason with the mean for that reason.\n",
    "\n",
    "Let us now look at more ways to examine and understand the data set.\n",
    "\n",
    "# Understanding the variables\n",
    "\n",
    "We will use .describe() in the DataFrame to get a summary of the distribution of the continuous variables, for each of the columns we will see a few statistics."
   ],
   "cell_type": "markdown",
   "metadata": {}
  },
  {
   "cell_type": "code",
   "execution_count": 27,
   "metadata": {},
   "outputs": [
    {
     "output_type": "execute_result",
     "data": {
      "text/plain": [
       "        departure_time  arrival_time unique_carrier tail_number  \\\n",
       "count    1247486.00000 1247486.00000        1247486     1247486   \n",
       "unique             NaN           NaN             20        5349   \n",
       "top                NaN           NaN             WN      N17175   \n",
       "freq               NaN           NaN         203559         686   \n",
       "mean        1558.83193    1616.74890            NaN         NaN   \n",
       "std          454.33003     583.94163            NaN         NaN   \n",
       "min            1.00000       1.00000            NaN         NaN   \n",
       "20%         1139.00000    1223.00000            NaN         NaN   \n",
       "40%         1455.00000    1609.00000            NaN         NaN   \n",
       "50%         1618.00000    1737.00000            NaN         NaN   \n",
       "60%         1736.00000    1857.00000            NaN         NaN   \n",
       "80%         2000.00000    2122.00000            NaN         NaN   \n",
       "max         2400.00000    2400.00000            NaN         NaN   \n",
       "\n",
       "        actual_elapsed_time  ...  carrier_delay  weather_delay     nas_delay  \\\n",
       "count         1247486.00000  ...  1247486.00000  1247486.00000 1247486.00000   \n",
       "unique                  NaN  ...            NaN            NaN           NaN   \n",
       "top                     NaN  ...            NaN            NaN           NaN   \n",
       "freq                    NaN  ...            NaN            NaN           NaN   \n",
       "mean              135.37789  ...       19.17943        3.70336      15.02162   \n",
       "std                72.29636  ...       43.54624       21.49153      33.83308   \n",
       "min                14.00000  ...        0.00000        0.00000       0.00000   \n",
       "20%                76.00000  ...        0.00000        0.00000       0.00000   \n",
       "40%               103.00000  ...        0.00000        0.00000       0.00000   \n",
       "50%               118.00000  ...        2.00000        0.00000       2.00000   \n",
       "60%               136.00000  ...        9.00000        0.00000       6.00000   \n",
       "80%               182.00000  ...       27.00000        0.00000      20.00000   \n",
       "max              1114.00000  ...     2436.00000     1352.00000    1357.00000   \n",
       "\n",
       "        security_delay late_aircraft_delay  \n",
       "count    1247486.00000       1247486.00000  \n",
       "unique             NaN                 NaN  \n",
       "top                NaN                 NaN  \n",
       "freq               NaN                 NaN  \n",
       "mean           0.09014            25.29649  \n",
       "std            2.02272            42.05489  \n",
       "min            0.00000             0.00000  \n",
       "20%            0.00000             0.00000  \n",
       "40%            0.00000             0.00000  \n",
       "50%            0.00000             8.00000  \n",
       "60%            0.00000            17.00000  \n",
       "80%            0.00000            42.00000  \n",
       "max          392.00000          1316.00000  \n",
       "\n",
       "[13 rows x 19 columns]"
      ],
      "text/html": "<div>\n<style scoped>\n    .dataframe tbody tr th:only-of-type {\n        vertical-align: middle;\n    }\n\n    .dataframe tbody tr th {\n        vertical-align: top;\n    }\n\n    .dataframe thead th {\n        text-align: right;\n    }\n</style>\n<table border=\"1\" class=\"dataframe\">\n  <thead>\n    <tr style=\"text-align: right;\">\n      <th></th>\n      <th>departure_time</th>\n      <th>arrival_time</th>\n      <th>unique_carrier</th>\n      <th>tail_number</th>\n      <th>actual_elapsed_time</th>\n      <th>...</th>\n      <th>carrier_delay</th>\n      <th>weather_delay</th>\n      <th>nas_delay</th>\n      <th>security_delay</th>\n      <th>late_aircraft_delay</th>\n    </tr>\n  </thead>\n  <tbody>\n    <tr>\n      <th>count</th>\n      <td>1247486.00000</td>\n      <td>1247486.00000</td>\n      <td>1247486</td>\n      <td>1247486</td>\n      <td>1247486.00000</td>\n      <td>...</td>\n      <td>1247486.00000</td>\n      <td>1247486.00000</td>\n      <td>1247486.00000</td>\n      <td>1247486.00000</td>\n      <td>1247486.00000</td>\n    </tr>\n    <tr>\n      <th>unique</th>\n      <td>NaN</td>\n      <td>NaN</td>\n      <td>20</td>\n      <td>5349</td>\n      <td>NaN</td>\n      <td>...</td>\n      <td>NaN</td>\n      <td>NaN</td>\n      <td>NaN</td>\n      <td>NaN</td>\n      <td>NaN</td>\n    </tr>\n    <tr>\n      <th>top</th>\n      <td>NaN</td>\n      <td>NaN</td>\n      <td>WN</td>\n      <td>N17175</td>\n      <td>NaN</td>\n      <td>...</td>\n      <td>NaN</td>\n      <td>NaN</td>\n      <td>NaN</td>\n      <td>NaN</td>\n      <td>NaN</td>\n    </tr>\n    <tr>\n      <th>freq</th>\n      <td>NaN</td>\n      <td>NaN</td>\n      <td>203559</td>\n      <td>686</td>\n      <td>NaN</td>\n      <td>...</td>\n      <td>NaN</td>\n      <td>NaN</td>\n      <td>NaN</td>\n      <td>NaN</td>\n      <td>NaN</td>\n    </tr>\n    <tr>\n      <th>mean</th>\n      <td>1558.83193</td>\n      <td>1616.74890</td>\n      <td>NaN</td>\n      <td>NaN</td>\n      <td>135.37789</td>\n      <td>...</td>\n      <td>19.17943</td>\n      <td>3.70336</td>\n      <td>15.02162</td>\n      <td>0.09014</td>\n      <td>25.29649</td>\n    </tr>\n    <tr>\n      <th>std</th>\n      <td>454.33003</td>\n      <td>583.94163</td>\n      <td>NaN</td>\n      <td>NaN</td>\n      <td>72.29636</td>\n      <td>...</td>\n      <td>43.54624</td>\n      <td>21.49153</td>\n      <td>33.83308</td>\n      <td>2.02272</td>\n      <td>42.05489</td>\n    </tr>\n    <tr>\n      <th>min</th>\n      <td>1.00000</td>\n      <td>1.00000</td>\n      <td>NaN</td>\n      <td>NaN</td>\n      <td>14.00000</td>\n      <td>...</td>\n      <td>0.00000</td>\n      <td>0.00000</td>\n      <td>0.00000</td>\n      <td>0.00000</td>\n      <td>0.00000</td>\n    </tr>\n    <tr>\n      <th>20%</th>\n      <td>1139.00000</td>\n      <td>1223.00000</td>\n      <td>NaN</td>\n      <td>NaN</td>\n      <td>76.00000</td>\n      <td>...</td>\n      <td>0.00000</td>\n      <td>0.00000</td>\n      <td>0.00000</td>\n      <td>0.00000</td>\n      <td>0.00000</td>\n    </tr>\n    <tr>\n      <th>40%</th>\n      <td>1455.00000</td>\n      <td>1609.00000</td>\n      <td>NaN</td>\n      <td>NaN</td>\n      <td>103.00000</td>\n      <td>...</td>\n      <td>0.00000</td>\n      <td>0.00000</td>\n      <td>0.00000</td>\n      <td>0.00000</td>\n      <td>0.00000</td>\n    </tr>\n    <tr>\n      <th>50%</th>\n      <td>1618.00000</td>\n      <td>1737.00000</td>\n      <td>NaN</td>\n      <td>NaN</td>\n      <td>118.00000</td>\n      <td>...</td>\n      <td>2.00000</td>\n      <td>0.00000</td>\n      <td>2.00000</td>\n      <td>0.00000</td>\n      <td>8.00000</td>\n    </tr>\n    <tr>\n      <th>60%</th>\n      <td>1736.00000</td>\n      <td>1857.00000</td>\n      <td>NaN</td>\n      <td>NaN</td>\n      <td>136.00000</td>\n      <td>...</td>\n      <td>9.00000</td>\n      <td>0.00000</td>\n      <td>6.00000</td>\n      <td>0.00000</td>\n      <td>17.00000</td>\n    </tr>\n    <tr>\n      <th>80%</th>\n      <td>2000.00000</td>\n      <td>2122.00000</td>\n      <td>NaN</td>\n      <td>NaN</td>\n      <td>182.00000</td>\n      <td>...</td>\n      <td>27.00000</td>\n      <td>0.00000</td>\n      <td>20.00000</td>\n      <td>0.00000</td>\n      <td>42.00000</td>\n    </tr>\n    <tr>\n      <th>max</th>\n      <td>2400.00000</td>\n      <td>2400.00000</td>\n      <td>NaN</td>\n      <td>NaN</td>\n      <td>1114.00000</td>\n      <td>...</td>\n      <td>2436.00000</td>\n      <td>1352.00000</td>\n      <td>1357.00000</td>\n      <td>392.00000</td>\n      <td>1316.00000</td>\n    </tr>\n  </tbody>\n</table>\n<p>13 rows × 19 columns</p>\n</div>"
     },
     "metadata": {},
     "execution_count": 27
    }
   ],
   "source": [
    "#\n",
    "pd.options.display.max_columns = 10\n",
    "# removing null values to avoid errors \n",
    "DelayedFlights_df.dropna(inplace = True)\n",
    "\n",
    "# percentile list\n",
    "perc =[.20, .40, .60, .80]\n",
    "  \n",
    "# list of dtypes to include\n",
    "include =['object', 'float', 'int']\n",
    "  \n",
    "# calling describe method\n",
    "desc = DelayedFlights_df.describe(percentiles = perc, include = include)\n",
    "#desc = DelayedFlights_df.describe()\n",
    "\n",
    "# set option to format the output\n",
    "pd.set_option('display.float_format', lambda x: '%.5f' % x)\n",
    "  \n",
    "# display\n",
    "desc"
   ]
  },
  {
   "source": [
    "Note that it only gives statistics for the numerical columns. It is also very useful to know when the numbers are continuous to determine what type of chart can be used to represent the data visually.\n",
    "\n",
    "Let's review what each of these statistics means:\n",
    "\n",
    "+ **Count**: This is the number of rows that have a value. In our case, each flight has a value for each of the columns, so the value is 1247486 (the total number of flights).<br/>\n",
    "+ **Mean**: Recall that the mean is the standard average.<br/>\n",
    "+ **Std**: This is short for standard deviation. This is a measure of how dispersed the data is.<br/>\n",
    "+ **Min**: The smallest value.<br/>\n",
    "+ **25%**: The 25th percentile.<br/>\n",
    "+ **50%**: The 50th percentile, also known as the median.<br/>\n",
    "+ **75%**: The 75th percentile.<br/>\n",
    "+ **Max**: The largest value.\n",
    "\n",
    "We can also use .describe() on a categorical variable to get the row count, unique category count, top category, and top category frequency:"
   ],
   "cell_type": "markdown",
   "metadata": {}
  },
  {
   "cell_type": "code",
   "execution_count": 28,
   "metadata": {},
   "outputs": [
    {
     "output_type": "execute_result",
     "data": {
      "text/plain": [
       "count     1247486\n",
       "unique         20\n",
       "top            WN\n",
       "freq       203559\n",
       "Name: unique_carrier, dtype: object"
      ]
     },
     "metadata": {},
     "execution_count": 28
    }
   ],
   "source": [
    "DelayedFlights_df['unique_carrier'].describe()"
   ]
  },
  {
   "source": [
    "This tells us that the unique_carrier column has 20 unique values, the highest value being WN, which appears 203559 times (frequency).\n",
    "\n",
    "We can obtain the frequency of all the values in a column as follows: "
   ],
   "cell_type": "markdown",
   "metadata": {}
  },
  {
   "cell_type": "code",
   "execution_count": 29,
   "metadata": {},
   "outputs": [
    {
     "output_type": "execute_result",
     "data": {
      "text/plain": [
       "N17175    686\n",
       "N77278    679\n",
       "N87353    678\n",
       "N37208    665\n",
       "N37342    660\n",
       "N27172    647\n",
       "N17156    636\n",
       "N75995    635\n",
       "N651ML    633\n",
       "N27173    631\n",
       "Name: tail_number, dtype: int64"
      ]
     },
     "metadata": {},
     "execution_count": 29
    }
   ],
   "source": [
    "#DelayedFlights_df['uniquecarrier'].value_counts().head(10)\n",
    "#DelayedFlights_df['flightnum'].value_counts().head(10)\n",
    "DelayedFlights_df['tail_number'].value_counts().head(10)\n"
   ]
  },
  {
   "source": [
    "# Relationships between continuous variables\n",
    "\n",
    "We will perform the correlation between continuous variables as follows:"
   ],
   "cell_type": "markdown",
   "metadata": {}
  },
  {
   "cell_type": "code",
   "execution_count": 30,
   "metadata": {},
   "outputs": [
    {
     "output_type": "execute_result",
     "data": {
      "text/plain": [
       "                     year    month  day_of_month  day_of_week  departure_time  \\\n",
       "year                  NaN      NaN           NaN          NaN             NaN   \n",
       "month                 NaN  1.00000       0.06703      0.00929        -0.00876   \n",
       "day_of_month          NaN  0.06703       1.00000      0.02595         0.00340   \n",
       "day_of_week           NaN  0.00929       0.02595      1.00000         0.02141   \n",
       "departure_time        NaN -0.00876       0.00340      0.02141         1.00000   \n",
       "crs_departure_time    NaN -0.01344       0.00359      0.02781         0.84026   \n",
       "arrival_time          NaN -0.00196       0.00341      0.00727         0.37323   \n",
       "crs_arrival_time      NaN -0.00182       0.00395      0.01727         0.71422   \n",
       "flight_number         NaN  0.00255      -0.00490     -0.01001        -0.03174   \n",
       "actual_elapsed_time   NaN  0.00398      -0.00001      0.00454        -0.05682   \n",
       "crs_elapsed_time      NaN  0.00661       0.00056      0.00620        -0.04148   \n",
       "air_time              NaN  0.00011       0.00036      0.00584        -0.05862   \n",
       "arrival_delay         NaN  0.01234       0.00907      0.01190         0.09398   \n",
       "departure_delay       NaN  0.01540       0.00987      0.01380         0.11581   \n",
       "distance              NaN  0.00583      -0.00021      0.00899        -0.05488   \n",
       "taxi_in               NaN  0.02390      -0.00136      0.01196        -0.02512   \n",
       "taxi_out              NaN  0.00815      -0.00104     -0.00853         0.00242   \n",
       "cancelled             NaN      NaN           NaN          NaN             NaN   \n",
       "diverted              NaN      NaN           NaN          NaN             NaN   \n",
       "carrier_delay         NaN  0.00042      -0.00095      0.01021        -0.05195   \n",
       "weather_delay         NaN  0.00661       0.00090      0.00564         0.00530   \n",
       "nas_delay             NaN  0.01144       0.00564     -0.00663         0.02253   \n",
       "security_delay        NaN -0.00307      -0.00031      0.00467        -0.01527   \n",
       "late_aircraft_delay   NaN  0.00495       0.00910      0.00884         0.16945   \n",
       "\n",
       "                     ...  carrier_delay  weather_delay  nas_delay  \\\n",
       "year                 ...            NaN            NaN        NaN   \n",
       "month                ...        0.00042        0.00661    0.01144   \n",
       "day_of_month         ...       -0.00095        0.00090    0.00564   \n",
       "day_of_week          ...        0.01021        0.00564   -0.00663   \n",
       "departure_time       ...       -0.05195        0.00530    0.02253   \n",
       "crs_departure_time   ...       -0.10734       -0.00933   -0.03270   \n",
       "arrival_time         ...       -0.08398       -0.02987    0.03239   \n",
       "crs_arrival_time     ...       -0.09616       -0.00503    0.00923   \n",
       "flight_number        ...        0.05571        0.06748    0.01540   \n",
       "actual_elapsed_time  ...        0.00996        0.00407    0.17714   \n",
       "crs_elapsed_time     ...        0.02659       -0.01647    0.04696   \n",
       "air_time             ...        0.01955       -0.01832    0.06279   \n",
       "arrival_delay        ...        0.50178        0.26460    0.38761   \n",
       "departure_delay      ...        0.52804        0.24447    0.23398   \n",
       "distance             ...        0.02844       -0.02382    0.01811   \n",
       "taxi_in              ...       -0.02198        0.02566    0.22983   \n",
       "taxi_out             ...       -0.02876        0.08324    0.42799   \n",
       "cancelled            ...            NaN            NaN        NaN   \n",
       "diverted             ...            NaN            NaN        NaN   \n",
       "carrier_delay        ...        1.00000       -0.06895   -0.11953   \n",
       "weather_delay        ...       -0.06895        1.00000   -0.00255   \n",
       "nas_delay            ...       -0.11953       -0.00255    1.00000   \n",
       "security_delay       ...       -0.01854       -0.00751   -0.01172   \n",
       "late_aircraft_delay  ...       -0.17829       -0.05497   -0.11890   \n",
       "\n",
       "                     security_delay  late_aircraft_delay  \n",
       "year                            NaN                  NaN  \n",
       "month                      -0.00307              0.00495  \n",
       "day_of_month               -0.00031              0.00910  \n",
       "day_of_week                 0.00467              0.00884  \n",
       "departure_time             -0.01527              0.16945  \n",
       "crs_departure_time         -0.01706              0.16773  \n",
       "arrival_time               -0.00742             -0.03795  \n",
       "crs_arrival_time           -0.01335              0.13147  \n",
       "flight_number              -0.00281             -0.05271  \n",
       "actual_elapsed_time         0.00572             -0.03420  \n",
       "crs_elapsed_time            0.00610             -0.01158  \n",
       "air_time                    0.00716             -0.02200  \n",
       "arrival_delay              -0.00249              0.47813  \n",
       "departure_delay            -0.00234              0.51305  \n",
       "distance                    0.00703             -0.01058  \n",
       "taxi_in                    -0.00490             -0.00698  \n",
       "taxi_out                   -0.00268             -0.05582  \n",
       "cancelled                       NaN                  NaN  \n",
       "diverted                        NaN                  NaN  \n",
       "carrier_delay              -0.01854             -0.17829  \n",
       "weather_delay              -0.00751             -0.05497  \n",
       "nas_delay                  -0.01172             -0.11890  \n",
       "security_delay              1.00000             -0.01923  \n",
       "late_aircraft_delay        -0.01923              1.00000  \n",
       "\n",
       "[24 rows x 24 columns]"
      ],
      "text/html": "<div>\n<style scoped>\n    .dataframe tbody tr th:only-of-type {\n        vertical-align: middle;\n    }\n\n    .dataframe tbody tr th {\n        vertical-align: top;\n    }\n\n    .dataframe thead th {\n        text-align: right;\n    }\n</style>\n<table border=\"1\" class=\"dataframe\">\n  <thead>\n    <tr style=\"text-align: right;\">\n      <th></th>\n      <th>year</th>\n      <th>month</th>\n      <th>day_of_month</th>\n      <th>day_of_week</th>\n      <th>departure_time</th>\n      <th>...</th>\n      <th>carrier_delay</th>\n      <th>weather_delay</th>\n      <th>nas_delay</th>\n      <th>security_delay</th>\n      <th>late_aircraft_delay</th>\n    </tr>\n  </thead>\n  <tbody>\n    <tr>\n      <th>year</th>\n      <td>NaN</td>\n      <td>NaN</td>\n      <td>NaN</td>\n      <td>NaN</td>\n      <td>NaN</td>\n      <td>...</td>\n      <td>NaN</td>\n      <td>NaN</td>\n      <td>NaN</td>\n      <td>NaN</td>\n      <td>NaN</td>\n    </tr>\n    <tr>\n      <th>month</th>\n      <td>NaN</td>\n      <td>1.00000</td>\n      <td>0.06703</td>\n      <td>0.00929</td>\n      <td>-0.00876</td>\n      <td>...</td>\n      <td>0.00042</td>\n      <td>0.00661</td>\n      <td>0.01144</td>\n      <td>-0.00307</td>\n      <td>0.00495</td>\n    </tr>\n    <tr>\n      <th>day_of_month</th>\n      <td>NaN</td>\n      <td>0.06703</td>\n      <td>1.00000</td>\n      <td>0.02595</td>\n      <td>0.00340</td>\n      <td>...</td>\n      <td>-0.00095</td>\n      <td>0.00090</td>\n      <td>0.00564</td>\n      <td>-0.00031</td>\n      <td>0.00910</td>\n    </tr>\n    <tr>\n      <th>day_of_week</th>\n      <td>NaN</td>\n      <td>0.00929</td>\n      <td>0.02595</td>\n      <td>1.00000</td>\n      <td>0.02141</td>\n      <td>...</td>\n      <td>0.01021</td>\n      <td>0.00564</td>\n      <td>-0.00663</td>\n      <td>0.00467</td>\n      <td>0.00884</td>\n    </tr>\n    <tr>\n      <th>departure_time</th>\n      <td>NaN</td>\n      <td>-0.00876</td>\n      <td>0.00340</td>\n      <td>0.02141</td>\n      <td>1.00000</td>\n      <td>...</td>\n      <td>-0.05195</td>\n      <td>0.00530</td>\n      <td>0.02253</td>\n      <td>-0.01527</td>\n      <td>0.16945</td>\n    </tr>\n    <tr>\n      <th>crs_departure_time</th>\n      <td>NaN</td>\n      <td>-0.01344</td>\n      <td>0.00359</td>\n      <td>0.02781</td>\n      <td>0.84026</td>\n      <td>...</td>\n      <td>-0.10734</td>\n      <td>-0.00933</td>\n      <td>-0.03270</td>\n      <td>-0.01706</td>\n      <td>0.16773</td>\n    </tr>\n    <tr>\n      <th>arrival_time</th>\n      <td>NaN</td>\n      <td>-0.00196</td>\n      <td>0.00341</td>\n      <td>0.00727</td>\n      <td>0.37323</td>\n      <td>...</td>\n      <td>-0.08398</td>\n      <td>-0.02987</td>\n      <td>0.03239</td>\n      <td>-0.00742</td>\n      <td>-0.03795</td>\n    </tr>\n    <tr>\n      <th>crs_arrival_time</th>\n      <td>NaN</td>\n      <td>-0.00182</td>\n      <td>0.00395</td>\n      <td>0.01727</td>\n      <td>0.71422</td>\n      <td>...</td>\n      <td>-0.09616</td>\n      <td>-0.00503</td>\n      <td>0.00923</td>\n      <td>-0.01335</td>\n      <td>0.13147</td>\n    </tr>\n    <tr>\n      <th>flight_number</th>\n      <td>NaN</td>\n      <td>0.00255</td>\n      <td>-0.00490</td>\n      <td>-0.01001</td>\n      <td>-0.03174</td>\n      <td>...</td>\n      <td>0.05571</td>\n      <td>0.06748</td>\n      <td>0.01540</td>\n      <td>-0.00281</td>\n      <td>-0.05271</td>\n    </tr>\n    <tr>\n      <th>actual_elapsed_time</th>\n      <td>NaN</td>\n      <td>0.00398</td>\n      <td>-0.00001</td>\n      <td>0.00454</td>\n      <td>-0.05682</td>\n      <td>...</td>\n      <td>0.00996</td>\n      <td>0.00407</td>\n      <td>0.17714</td>\n      <td>0.00572</td>\n      <td>-0.03420</td>\n    </tr>\n    <tr>\n      <th>crs_elapsed_time</th>\n      <td>NaN</td>\n      <td>0.00661</td>\n      <td>0.00056</td>\n      <td>0.00620</td>\n      <td>-0.04148</td>\n      <td>...</td>\n      <td>0.02659</td>\n      <td>-0.01647</td>\n      <td>0.04696</td>\n      <td>0.00610</td>\n      <td>-0.01158</td>\n    </tr>\n    <tr>\n      <th>air_time</th>\n      <td>NaN</td>\n      <td>0.00011</td>\n      <td>0.00036</td>\n      <td>0.00584</td>\n      <td>-0.05862</td>\n      <td>...</td>\n      <td>0.01955</td>\n      <td>-0.01832</td>\n      <td>0.06279</td>\n      <td>0.00716</td>\n      <td>-0.02200</td>\n    </tr>\n    <tr>\n      <th>arrival_delay</th>\n      <td>NaN</td>\n      <td>0.01234</td>\n      <td>0.00907</td>\n      <td>0.01190</td>\n      <td>0.09398</td>\n      <td>...</td>\n      <td>0.50178</td>\n      <td>0.26460</td>\n      <td>0.38761</td>\n      <td>-0.00249</td>\n      <td>0.47813</td>\n    </tr>\n    <tr>\n      <th>departure_delay</th>\n      <td>NaN</td>\n      <td>0.01540</td>\n      <td>0.00987</td>\n      <td>0.01380</td>\n      <td>0.11581</td>\n      <td>...</td>\n      <td>0.52804</td>\n      <td>0.24447</td>\n      <td>0.23398</td>\n      <td>-0.00234</td>\n      <td>0.51305</td>\n    </tr>\n    <tr>\n      <th>distance</th>\n      <td>NaN</td>\n      <td>0.00583</td>\n      <td>-0.00021</td>\n      <td>0.00899</td>\n      <td>-0.05488</td>\n      <td>...</td>\n      <td>0.02844</td>\n      <td>-0.02382</td>\n      <td>0.01811</td>\n      <td>0.00703</td>\n      <td>-0.01058</td>\n    </tr>\n    <tr>\n      <th>taxi_in</th>\n      <td>NaN</td>\n      <td>0.02390</td>\n      <td>-0.00136</td>\n      <td>0.01196</td>\n      <td>-0.02512</td>\n      <td>...</td>\n      <td>-0.02198</td>\n      <td>0.02566</td>\n      <td>0.22983</td>\n      <td>-0.00490</td>\n      <td>-0.00698</td>\n    </tr>\n    <tr>\n      <th>taxi_out</th>\n      <td>NaN</td>\n      <td>0.00815</td>\n      <td>-0.00104</td>\n      <td>-0.00853</td>\n      <td>0.00242</td>\n      <td>...</td>\n      <td>-0.02876</td>\n      <td>0.08324</td>\n      <td>0.42799</td>\n      <td>-0.00268</td>\n      <td>-0.05582</td>\n    </tr>\n    <tr>\n      <th>cancelled</th>\n      <td>NaN</td>\n      <td>NaN</td>\n      <td>NaN</td>\n      <td>NaN</td>\n      <td>NaN</td>\n      <td>...</td>\n      <td>NaN</td>\n      <td>NaN</td>\n      <td>NaN</td>\n      <td>NaN</td>\n      <td>NaN</td>\n    </tr>\n    <tr>\n      <th>diverted</th>\n      <td>NaN</td>\n      <td>NaN</td>\n      <td>NaN</td>\n      <td>NaN</td>\n      <td>NaN</td>\n      <td>...</td>\n      <td>NaN</td>\n      <td>NaN</td>\n      <td>NaN</td>\n      <td>NaN</td>\n      <td>NaN</td>\n    </tr>\n    <tr>\n      <th>carrier_delay</th>\n      <td>NaN</td>\n      <td>0.00042</td>\n      <td>-0.00095</td>\n      <td>0.01021</td>\n      <td>-0.05195</td>\n      <td>...</td>\n      <td>1.00000</td>\n      <td>-0.06895</td>\n      <td>-0.11953</td>\n      <td>-0.01854</td>\n      <td>-0.17829</td>\n    </tr>\n    <tr>\n      <th>weather_delay</th>\n      <td>NaN</td>\n      <td>0.00661</td>\n      <td>0.00090</td>\n      <td>0.00564</td>\n      <td>0.00530</td>\n      <td>...</td>\n      <td>-0.06895</td>\n      <td>1.00000</td>\n      <td>-0.00255</td>\n      <td>-0.00751</td>\n      <td>-0.05497</td>\n    </tr>\n    <tr>\n      <th>nas_delay</th>\n      <td>NaN</td>\n      <td>0.01144</td>\n      <td>0.00564</td>\n      <td>-0.00663</td>\n      <td>0.02253</td>\n      <td>...</td>\n      <td>-0.11953</td>\n      <td>-0.00255</td>\n      <td>1.00000</td>\n      <td>-0.01172</td>\n      <td>-0.11890</td>\n    </tr>\n    <tr>\n      <th>security_delay</th>\n      <td>NaN</td>\n      <td>-0.00307</td>\n      <td>-0.00031</td>\n      <td>0.00467</td>\n      <td>-0.01527</td>\n      <td>...</td>\n      <td>-0.01854</td>\n      <td>-0.00751</td>\n      <td>-0.01172</td>\n      <td>1.00000</td>\n      <td>-0.01923</td>\n    </tr>\n    <tr>\n      <th>late_aircraft_delay</th>\n      <td>NaN</td>\n      <td>0.00495</td>\n      <td>0.00910</td>\n      <td>0.00884</td>\n      <td>0.16945</td>\n      <td>...</td>\n      <td>-0.17829</td>\n      <td>-0.05497</td>\n      <td>-0.11890</td>\n      <td>-0.01923</td>\n      <td>1.00000</td>\n    </tr>\n  </tbody>\n</table>\n<p>24 rows × 24 columns</p>\n</div>"
     },
     "metadata": {},
     "execution_count": 30
    }
   ],
   "source": [
    "DelayedFlights_df.corr()"
   ]
  },
  {
   "source": [
    "Correlation tables are a numerical representation of the bivariate relationships in the data set.\n",
    "\n",
    "Positive numbers indicate a positive correlation - one goes up and one goes up - and negative numbers represent a reverse correlation - one goes up and one goes down. 1.0 indicates a perfect correlation.\n",
    "\n",
    "Examining bivariate relationships is useful when you have an outcome or dependent variable in mind and want to see the characteristics most correlated with the increase or decrease in the outcome."
   ],
   "cell_type": "markdown",
   "metadata": {}
  },
  {
   "cell_type": "code",
   "execution_count": 31,
   "metadata": {},
   "outputs": [
    {
     "output_type": "execute_result",
     "data": {
      "text/plain": [
       "                 arrival_delay  departure_delay\n",
       "arrival_delay          1.00000          0.95032\n",
       "departure_delay        0.95032          1.00000"
      ],
      "text/html": "<div>\n<style scoped>\n    .dataframe tbody tr th:only-of-type {\n        vertical-align: middle;\n    }\n\n    .dataframe tbody tr th {\n        vertical-align: top;\n    }\n\n    .dataframe thead th {\n        text-align: right;\n    }\n</style>\n<table border=\"1\" class=\"dataframe\">\n  <thead>\n    <tr style=\"text-align: right;\">\n      <th></th>\n      <th>arrival_delay</th>\n      <th>departure_delay</th>\n    </tr>\n  </thead>\n  <tbody>\n    <tr>\n      <th>arrival_delay</th>\n      <td>1.00000</td>\n      <td>0.95032</td>\n    </tr>\n    <tr>\n      <th>departure_delay</th>\n      <td>0.95032</td>\n      <td>1.00000</td>\n    </tr>\n  </tbody>\n</table>\n</div>"
     },
     "metadata": {},
     "execution_count": 31
    }
   ],
   "source": [
    "# only view these two variables\n",
    "DelayedFlights_df[['arrival_delay', 'departure_delay']].corr()"
   ]
  },
  {
   "source": [
    "If we look at the first row and the first column of the correlation matrix table, we see that the rank has a perfect correlation with itself, which is evident. On the other hand, the correlation between arrival_delay and departure_delay is 0.95032, which indicates a strong positive correlation between arrival_delay and departure_delay. It is evident that there is a relationship between the two variables.\n",
    "\n",
    "# DataFrame slicing, selecting, extracting\n",
    "\n",
    "It is important to keep in mind that, although many methods are the same, DataFrames and Series have different attributes, so we must make sure we know which type we are working with or we will receive attribute errors.\n",
    "\n",
    "Let's first look at working with columns.\n",
    "\n",
    "## By column\n",
    "\n",
    "Often we only want to extract some of the columns we have in our dataset. To extract a single column, we use square brackets and the column name.\n",
    "\n",
    "In the following example, we will extract only the arrivaldelay column in this way:"
   ],
   "cell_type": "markdown",
   "metadata": {}
  },
  {
   "cell_type": "code",
   "execution_count": 32,
   "metadata": {},
   "outputs": [
    {
     "output_type": "execute_result",
     "data": {
      "text/plain": [
       "pandas.core.series.Series"
      ]
     },
     "metadata": {},
     "execution_count": 32
    }
   ],
   "source": [
    "arrivaldelay_col = DelayedFlights_df['arrival_delay']\n",
    "\n",
    "type(arrivaldelay_col)"
   ]
  },
  {
   "source": [
    "This will return a Series. To extract a column as a DataFrame, we need to pass a list of column names. In this case it is a single column:"
   ],
   "cell_type": "markdown",
   "metadata": {}
  },
  {
   "cell_type": "code",
   "execution_count": 33,
   "metadata": {},
   "outputs": [
    {
     "output_type": "execute_result",
     "data": {
      "text/plain": [
       "pandas.core.frame.DataFrame"
      ]
     },
     "metadata": {},
     "execution_count": 33
    }
   ],
   "source": [
    "arrivaldelay_col = DelayedFlights_df[['arrival_delay']]\n",
    "\n",
    "type(arrivaldelay_col)"
   ]
  },
  {
   "source": [
    "# Selecting Multiple Columns\n",
    "\n",
    "We can also select multiple columns from our original DataFrame, creating a smaller DataFrame.\n",
    "We're going to select just the unique_carrier, flight_number, departure_delay and arrivel_delay columns from our original DataFrame.\n",
    "We put these values in a list as follows:\n",
    "\n",
    "``['unique_carrier', 'flight_number', 'departure_delay', 'arrivel_delay']``\n",
    "\n",
    "Now we use that list inside of the bracket notation DelayedFlights_df\\[...\\] When printing a large DataFrame that’s too big to display, you can use the head method to print just the first 5 rows.\n",
    "\n",
    "Since it's just a list, adding another column name is easy:"
   ],
   "cell_type": "markdown",
   "metadata": {}
  },
  {
   "cell_type": "code",
   "execution_count": 34,
   "metadata": {},
   "outputs": [
    {
     "output_type": "execute_result",
     "data": {
      "text/plain": [
       "   unique_carrier  flight_number  arrival_delay  departure_delay\n",
       "4              WN           3920       34.00000         34.00000\n",
       "6              WN            509       57.00000         67.00000\n",
       "11             WN           1333       80.00000         94.00000\n",
       "16             WN            675       15.00000         27.00000\n",
       "18             WN              4       16.00000         28.00000"
      ],
      "text/html": "<div>\n<style scoped>\n    .dataframe tbody tr th:only-of-type {\n        vertical-align: middle;\n    }\n\n    .dataframe tbody tr th {\n        vertical-align: top;\n    }\n\n    .dataframe thead th {\n        text-align: right;\n    }\n</style>\n<table border=\"1\" class=\"dataframe\">\n  <thead>\n    <tr style=\"text-align: right;\">\n      <th></th>\n      <th>unique_carrier</th>\n      <th>flight_number</th>\n      <th>arrival_delay</th>\n      <th>departure_delay</th>\n    </tr>\n  </thead>\n  <tbody>\n    <tr>\n      <th>4</th>\n      <td>WN</td>\n      <td>3920</td>\n      <td>34.00000</td>\n      <td>34.00000</td>\n    </tr>\n    <tr>\n      <th>6</th>\n      <td>WN</td>\n      <td>509</td>\n      <td>57.00000</td>\n      <td>67.00000</td>\n    </tr>\n    <tr>\n      <th>11</th>\n      <td>WN</td>\n      <td>1333</td>\n      <td>80.00000</td>\n      <td>94.00000</td>\n    </tr>\n    <tr>\n      <th>16</th>\n      <td>WN</td>\n      <td>675</td>\n      <td>15.00000</td>\n      <td>27.00000</td>\n    </tr>\n    <tr>\n      <th>18</th>\n      <td>WN</td>\n      <td>4</td>\n      <td>16.00000</td>\n      <td>28.00000</td>\n    </tr>\n  </tbody>\n</table>\n</div>"
     },
     "metadata": {},
     "execution_count": 34
    }
   ],
   "source": [
    "subset = DelayedFlights_df[['unique_carrier', 'flight_number', 'arrival_delay', 'departure_delay']]\n",
    "\n",
    "subset.head()"
   ]
  },
  {
   "cell_type": "code",
   "execution_count": 35,
   "metadata": {},
   "outputs": [
    {
     "output_type": "execute_result",
     "data": {
      "text/plain": [
       "             date/time\n",
       "4  2008-01-04 06:29:00\n",
       "6  2008-01-04 08:17:00\n",
       "11 2008-01-04 03:24:00\n",
       "16 2008-01-04 00:12:00\n",
       "18 2008-01-03 22:03:00"
      ],
      "text/html": "<div>\n<style scoped>\n    .dataframe tbody tr th:only-of-type {\n        vertical-align: middle;\n    }\n\n    .dataframe tbody tr th {\n        vertical-align: top;\n    }\n\n    .dataframe thead th {\n        text-align: right;\n    }\n</style>\n<table border=\"1\" class=\"dataframe\">\n  <thead>\n    <tr style=\"text-align: right;\">\n      <th></th>\n      <th>date/time</th>\n    </tr>\n  </thead>\n  <tbody>\n    <tr>\n      <th>4</th>\n      <td>2008-01-04 06:29:00</td>\n    </tr>\n    <tr>\n      <th>6</th>\n      <td>2008-01-04 08:17:00</td>\n    </tr>\n    <tr>\n      <th>11</th>\n      <td>2008-01-04 03:24:00</td>\n    </tr>\n    <tr>\n      <th>16</th>\n      <td>2008-01-04 00:12:00</td>\n    </tr>\n    <tr>\n      <th>18</th>\n      <td>2008-01-03 22:03:00</td>\n    </tr>\n  </tbody>\n</table>\n</div>"
     },
     "metadata": {},
     "execution_count": 35
    }
   ],
   "source": [
    "DelayedFlights_df.rename(columns={'day_of_month' : 'day'}, inplace=True)\n",
    "\n",
    "data_set_1 = DelayedFlights_df[['year', 'month', 'day']]\n",
    "data_set_2 = DelayedFlights_df['departure_time']\n",
    "\n",
    "date_time_df = pd.DataFrame()\n",
    "\n",
    "date_time_df['date'] = pd.to_datetime(data_set_1, dayfirst=False, errors='coerce')\n",
    "\n",
    "date_time_df['time'] = pd.to_timedelta(data_set_2, unit='m')\n",
    "\n",
    "date_time_df['date/time'] = pd.to_datetime(date_time_df.pop('date')) + pd.to_timedelta(date_time_df.pop('time'))\n",
    "\n",
    "#date_time_df.rename(columns={'flight_date_time':'DATE/TIME'})\n",
    "\n",
    "date_time_df.head()\n"
   ]
  },
  {
   "cell_type": "code",
   "execution_count": 36,
   "metadata": {},
   "outputs": [
    {
     "output_type": "execute_result",
     "data": {
      "text/plain": [
       "   week_day_name\n",
       "4         Friday\n",
       "6         Friday\n",
       "11        Friday\n",
       "16        Friday\n",
       "18      Thursday"
      ],
      "text/html": "<div>\n<style scoped>\n    .dataframe tbody tr th:only-of-type {\n        vertical-align: middle;\n    }\n\n    .dataframe tbody tr th {\n        vertical-align: top;\n    }\n\n    .dataframe thead th {\n        text-align: right;\n    }\n</style>\n<table border=\"1\" class=\"dataframe\">\n  <thead>\n    <tr style=\"text-align: right;\">\n      <th></th>\n      <th>week_day_name</th>\n    </tr>\n  </thead>\n  <tbody>\n    <tr>\n      <th>4</th>\n      <td>Friday</td>\n    </tr>\n    <tr>\n      <th>6</th>\n      <td>Friday</td>\n    </tr>\n    <tr>\n      <th>11</th>\n      <td>Friday</td>\n    </tr>\n    <tr>\n      <th>16</th>\n      <td>Friday</td>\n    </tr>\n    <tr>\n      <th>18</th>\n      <td>Thursday</td>\n    </tr>\n  </tbody>\n</table>\n</div>"
     },
     "metadata": {},
     "execution_count": 36
    }
   ],
   "source": [
    "dw_mapping = {\n",
    "    0: 'Monday', \n",
    "    1: 'Tuesday', \n",
    "    2: 'Wednesday', \n",
    "    3: 'Thursday', \n",
    "    4: 'Friday',\n",
    "    5: 'Saturday', \n",
    "    6: 'Sunday'\n",
    "}\n",
    "\n",
    "day_of_week_name_df = pd.DataFrame()\n",
    "\n",
    "day_of_week_name_df['week_day_name'] = date_time_df['date/time'].dt.weekday.map(dw_mapping)\n",
    "\n",
    "day_of_week_name_df.head()"
   ]
  },
  {
   "cell_type": "code",
   "execution_count": 37,
   "metadata": {},
   "outputs": [
    {
     "output_type": "execute_result",
     "data": {
      "text/plain": [
       "week_day_name\n",
       "Friday           200001\n",
       "Monday           199310\n",
       "Saturday         196065\n",
       "Tuesday          177062\n",
       "Wednesday        169748\n",
       "Thursday         168916\n",
       "Sunday           136384\n",
       "dtype: int64"
      ]
     },
     "metadata": {},
     "execution_count": 37
    }
   ],
   "source": [
    "day_of_week_name_df.value_counts().head(10)"
   ]
  },
  {
   "source": [
    "Now we will see how to get the data by rows.\n",
    "\n",
    "# By rows\n",
    "\n",
    "For rows, we have two options:\n",
    "\n",
    "* .loc - locate by name\n",
    "\n",
    "* .iloc- locate by numerical index\n",
    "\n",
    "Recall that we are still indexing by the date and time of the flight, so to use .loc we give it the date of the flight:"
   ],
   "cell_type": "markdown",
   "metadata": {}
  },
  {
   "cell_type": "code",
   "execution_count": 38,
   "metadata": {},
   "outputs": [
    {
     "output_type": "execute_result",
     "data": {
      "text/plain": [
       "             date/time\n",
       "4  2008-01-04 06:29:00\n",
       "6  2008-01-04 08:17:00\n",
       "11 2008-01-04 03:24:00\n",
       "16 2008-01-04 00:12:00\n",
       "18 2008-01-03 22:03:00"
      ],
      "text/html": "<div>\n<style scoped>\n    .dataframe tbody tr th:only-of-type {\n        vertical-align: middle;\n    }\n\n    .dataframe tbody tr th {\n        vertical-align: top;\n    }\n\n    .dataframe thead th {\n        text-align: right;\n    }\n</style>\n<table border=\"1\" class=\"dataframe\">\n  <thead>\n    <tr style=\"text-align: right;\">\n      <th></th>\n      <th>date/time</th>\n    </tr>\n  </thead>\n  <tbody>\n    <tr>\n      <th>4</th>\n      <td>2008-01-04 06:29:00</td>\n    </tr>\n    <tr>\n      <th>6</th>\n      <td>2008-01-04 08:17:00</td>\n    </tr>\n    <tr>\n      <th>11</th>\n      <td>2008-01-04 03:24:00</td>\n    </tr>\n    <tr>\n      <th>16</th>\n      <td>2008-01-04 00:12:00</td>\n    </tr>\n    <tr>\n      <th>18</th>\n      <td>2008-01-03 22:03:00</td>\n    </tr>\n  </tbody>\n</table>\n</div>"
     },
     "metadata": {},
     "execution_count": 38
    }
   ],
   "source": [
    "flight = date_time_df.loc[:516,['date/time']]\n",
    "# display\n",
    "flight.head()"
   ]
  },
  {
   "source": [
    "Columns in a Pandas DataFrame can be accessed by their index in the DataFrame rather than by their column name. This can be useful if the columns in a DataFrame are unnamed or if there is more than one column with the same name."
   ],
   "cell_type": "markdown",
   "metadata": {}
  },
  {
   "cell_type": "code",
   "execution_count": 39,
   "metadata": {},
   "outputs": [
    {
     "output_type": "execute_result",
     "data": {
      "text/plain": [
       "    year  month  day  day_of_week  departure_time  crs_departure_time  \\\n",
       "4   2008      1    3            4      1829.00000                1755   \n",
       "6   2008      1    3            4      1937.00000                1830   \n",
       "11  2008      1    3            4      1644.00000                1510   \n",
       "\n",
       "    arrival_time  crs_arrival_time unique_carrier  flight_number  \n",
       "4     1959.00000              1925             WN           3920  \n",
       "6     2037.00000              1940             WN            509  \n",
       "11    1845.00000              1725             WN           1333  "
      ],
      "text/html": "<div>\n<style scoped>\n    .dataframe tbody tr th:only-of-type {\n        vertical-align: middle;\n    }\n\n    .dataframe tbody tr th {\n        vertical-align: top;\n    }\n\n    .dataframe thead th {\n        text-align: right;\n    }\n</style>\n<table border=\"1\" class=\"dataframe\">\n  <thead>\n    <tr style=\"text-align: right;\">\n      <th></th>\n      <th>year</th>\n      <th>month</th>\n      <th>day</th>\n      <th>day_of_week</th>\n      <th>departure_time</th>\n      <th>crs_departure_time</th>\n      <th>arrival_time</th>\n      <th>crs_arrival_time</th>\n      <th>unique_carrier</th>\n      <th>flight_number</th>\n    </tr>\n  </thead>\n  <tbody>\n    <tr>\n      <th>4</th>\n      <td>2008</td>\n      <td>1</td>\n      <td>3</td>\n      <td>4</td>\n      <td>1829.00000</td>\n      <td>1755</td>\n      <td>1959.00000</td>\n      <td>1925</td>\n      <td>WN</td>\n      <td>3920</td>\n    </tr>\n    <tr>\n      <th>6</th>\n      <td>2008</td>\n      <td>1</td>\n      <td>3</td>\n      <td>4</td>\n      <td>1937.00000</td>\n      <td>1830</td>\n      <td>2037.00000</td>\n      <td>1940</td>\n      <td>WN</td>\n      <td>509</td>\n    </tr>\n    <tr>\n      <th>11</th>\n      <td>2008</td>\n      <td>1</td>\n      <td>3</td>\n      <td>4</td>\n      <td>1644.00000</td>\n      <td>1510</td>\n      <td>1845.00000</td>\n      <td>1725</td>\n      <td>WN</td>\n      <td>1333</td>\n    </tr>\n  </tbody>\n</table>\n</div>"
     },
     "metadata": {},
     "execution_count": 39
    }
   ],
   "source": [
    "first_10_columns = DelayedFlights_df.iloc[:3,:10]\n",
    "first_10_columns"
   ]
  },
  {
   "cell_type": "code",
   "execution_count": 40,
   "metadata": {},
   "outputs": [
    {
     "output_type": "execute_result",
     "data": {
      "text/plain": [
       "   tail_number  actual_elapsed_time  crs_elapsed_time  air_time  \\\n",
       "4       N464WN             90.00000          90.00000  77.00000   \n",
       "6       N763SW            240.00000         250.00000 230.00000   \n",
       "11      N334SW            121.00000         135.00000 107.00000   \n",
       "\n",
       "    arrival_delay  departure_delay origin dest  distance  taxi_in  \n",
       "4        34.00000         34.00000    IND  BWI       515  3.00000  \n",
       "6        57.00000         67.00000    IND  LAS      1591  3.00000  \n",
       "11       80.00000         94.00000    IND  MCO       828  6.00000  "
      ],
      "text/html": "<div>\n<style scoped>\n    .dataframe tbody tr th:only-of-type {\n        vertical-align: middle;\n    }\n\n    .dataframe tbody tr th {\n        vertical-align: top;\n    }\n\n    .dataframe thead th {\n        text-align: right;\n    }\n</style>\n<table border=\"1\" class=\"dataframe\">\n  <thead>\n    <tr style=\"text-align: right;\">\n      <th></th>\n      <th>tail_number</th>\n      <th>actual_elapsed_time</th>\n      <th>crs_elapsed_time</th>\n      <th>air_time</th>\n      <th>arrival_delay</th>\n      <th>departure_delay</th>\n      <th>origin</th>\n      <th>dest</th>\n      <th>distance</th>\n      <th>taxi_in</th>\n    </tr>\n  </thead>\n  <tbody>\n    <tr>\n      <th>4</th>\n      <td>N464WN</td>\n      <td>90.00000</td>\n      <td>90.00000</td>\n      <td>77.00000</td>\n      <td>34.00000</td>\n      <td>34.00000</td>\n      <td>IND</td>\n      <td>BWI</td>\n      <td>515</td>\n      <td>3.00000</td>\n    </tr>\n    <tr>\n      <th>6</th>\n      <td>N763SW</td>\n      <td>240.00000</td>\n      <td>250.00000</td>\n      <td>230.00000</td>\n      <td>57.00000</td>\n      <td>67.00000</td>\n      <td>IND</td>\n      <td>LAS</td>\n      <td>1591</td>\n      <td>3.00000</td>\n    </tr>\n    <tr>\n      <th>11</th>\n      <td>N334SW</td>\n      <td>121.00000</td>\n      <td>135.00000</td>\n      <td>107.00000</td>\n      <td>80.00000</td>\n      <td>94.00000</td>\n      <td>IND</td>\n      <td>MCO</td>\n      <td>828</td>\n      <td>6.00000</td>\n    </tr>\n  </tbody>\n</table>\n</div>"
     },
     "metadata": {},
     "execution_count": 40
    }
   ],
   "source": [
    "first_10_columns = DelayedFlights_df.iloc[:3,10:20]\n",
    "first_10_columns"
   ]
  },
  {
   "cell_type": "code",
   "execution_count": 41,
   "metadata": {},
   "outputs": [
    {
     "output_type": "execute_result",
     "data": {
      "text/plain": [
       "    taxi_out  cancelled cancellation_code  diverted  carrier_delay  \\\n",
       "4   10.00000          0                 N         0        2.00000   \n",
       "6    7.00000          0                 N         0       10.00000   \n",
       "11   8.00000          0                 N         0        8.00000   \n",
       "\n",
       "    weather_delay  nas_delay  security_delay  late_aircraft_delay  \n",
       "4         0.00000    0.00000         0.00000             32.00000  \n",
       "6         0.00000    0.00000         0.00000             47.00000  \n",
       "11        0.00000    0.00000         0.00000             72.00000  "
      ],
      "text/html": "<div>\n<style scoped>\n    .dataframe tbody tr th:only-of-type {\n        vertical-align: middle;\n    }\n\n    .dataframe tbody tr th {\n        vertical-align: top;\n    }\n\n    .dataframe thead th {\n        text-align: right;\n    }\n</style>\n<table border=\"1\" class=\"dataframe\">\n  <thead>\n    <tr style=\"text-align: right;\">\n      <th></th>\n      <th>taxi_out</th>\n      <th>cancelled</th>\n      <th>cancellation_code</th>\n      <th>diverted</th>\n      <th>carrier_delay</th>\n      <th>weather_delay</th>\n      <th>nas_delay</th>\n      <th>security_delay</th>\n      <th>late_aircraft_delay</th>\n    </tr>\n  </thead>\n  <tbody>\n    <tr>\n      <th>4</th>\n      <td>10.00000</td>\n      <td>0</td>\n      <td>N</td>\n      <td>0</td>\n      <td>2.00000</td>\n      <td>0.00000</td>\n      <td>0.00000</td>\n      <td>0.00000</td>\n      <td>32.00000</td>\n    </tr>\n    <tr>\n      <th>6</th>\n      <td>7.00000</td>\n      <td>0</td>\n      <td>N</td>\n      <td>0</td>\n      <td>10.00000</td>\n      <td>0.00000</td>\n      <td>0.00000</td>\n      <td>0.00000</td>\n      <td>47.00000</td>\n    </tr>\n    <tr>\n      <th>11</th>\n      <td>8.00000</td>\n      <td>0</td>\n      <td>N</td>\n      <td>0</td>\n      <td>8.00000</td>\n      <td>0.00000</td>\n      <td>0.00000</td>\n      <td>0.00000</td>\n      <td>72.00000</td>\n    </tr>\n  </tbody>\n</table>\n</div>"
     },
     "metadata": {},
     "execution_count": 41
    }
   ],
   "source": [
    "first_10_columns = DelayedFlights_df.iloc[:3,20:30]\n",
    "first_10_columns"
   ]
  },
  {
   "cell_type": "code",
   "execution_count": null,
   "metadata": {},
   "outputs": [],
   "source": [
    "DelayedFlights_df['arrival_delay'].plot()"
   ]
  },
  {
   "cell_type": "code",
   "execution_count": null,
   "metadata": {
    "tags": []
   },
   "outputs": [],
   "source": [
    "#per1 = pd.date_range(start ='1-1-2008', end ='30-12-2008', freq = 'D')\n",
    "#per1 = pd.date_range(start ='1-1-2008', end ='30-12-2008', periods = 10, tz ='Asia/Tokyo')\n",
    "per1 = pd.period_range(start ='2008-01-01', end ='2008-12-30', freq ='M')\n",
    "\n",
    "for val in per1:\n",
    "    print(val)"
   ]
  },
  {
   "cell_type": "code",
   "execution_count": null,
   "metadata": {},
   "outputs": [],
   "source": [
    "#departures_df.plot()\n",
    "plt.scatter(DelayedFlights_df['departure_time'], DelayedFlights_df['departure_delay'])"
   ]
  },
  {
   "source": [
    "We can also plot all the columns just as easily. We'll make it a little bigger, too. You can see that it's more squished together, but all the bike paths behave basically the same – if it's a bad day for cyclists, it's a bad day everywhere."
   ],
   "cell_type": "markdown",
   "metadata": {}
  },
  {
   "source": [
    "## Create a Histogram of flight distance"
   ],
   "cell_type": "markdown",
   "metadata": {}
  },
  {
   "cell_type": "code",
   "execution_count": null,
   "metadata": {},
   "outputs": [],
   "source": [
    "plt.hist(x=sample_df['distance'], bins = 'auto')\n",
    "plt.xlabel('distance')\n",
    "plt.ylabel('frequency')"
   ]
  },
  {
   "source": [
    "## Plot elapsed time vs distance"
   ],
   "cell_type": "markdown",
   "metadata": {}
  },
  {
   "cell_type": "code",
   "execution_count": null,
   "metadata": {},
   "outputs": [],
   "source": [
    "# Generate scatterplot of flight distance vs time\n",
    "plt.scatter('distance', 'actual_elapsed_time', data = sample_df)\n",
    "plt.xlabel('distance')\n",
    "plt.ylabel('time')"
   ]
  },
  {
   "source": [
    "## Plot arrival delay over time"
   ],
   "cell_type": "markdown",
   "metadata": {}
  },
  {
   "cell_type": "code",
   "execution_count": null,
   "metadata": {},
   "outputs": [],
   "source": [
    "plt.scatter('month', 'arrival_delay', data = sample_df)\n",
    "plt.xlabel('Month')\n",
    "plt.ylabel('Arrival Delay')"
   ]
  },
  {
   "source": [
    "## Create a histogram of arrival delay"
   ],
   "cell_type": "markdown",
   "metadata": {}
  },
  {
   "cell_type": "code",
   "execution_count": null,
   "metadata": {},
   "outputs": [],
   "source": [
    "# Set missing values to 0\n",
    "arvl_delay = sample_df['arrival_delay'].fillna(0)\n",
    "\n",
    "plt.hist(x=arvl_delay, bins='auto')\n",
    "plt.xlabel('Distance')\n",
    "plt.ylabel('Frequency')"
   ]
  },
  {
   "source": [
    "## List Top 5 airlines which occur delays most in 2008."
   ],
   "cell_type": "markdown",
   "metadata": {}
  },
  {
   "cell_type": "code",
   "execution_count": null,
   "metadata": {},
   "outputs": [],
   "source": [
    "Top5delay_df = DelayedFlights_df[['unique_carrier','departure_delay']].copy()\n",
    "sorted_df = Top5delay_df.sort_values(by=['departure_delay'], ascending = False, inplace = False).groupby('unique_carrier').head(1)\n",
    "sorted_df.head()"
   ]
  },
  {
   "cell_type": "code",
   "execution_count": null,
   "metadata": {},
   "outputs": [],
   "source": [
    "sorted_df.plot(x = 'unique_carrier', y = 'departure_delay', kind=\"bar\", figsize=(15,7))"
   ]
  },
  {
   "cell_type": "code",
   "execution_count": null,
   "metadata": {},
   "outputs": [],
   "source": [
    "# Sort pandas dataframe by a specific column's values\n",
    "sorted_df = DelayedFlights_df.sort_values(by=['departure_delay'],\n",
    "                                                        axis=0,\n",
    "                                                        ascending=False,\n",
    "                                                        inplace=False,\n",
    "                                                        kind='quicksort',\n",
    "                                                        na_position='last',\n",
    "                                                        ignore_index=False,\n",
    "                                                        key=None)\n",
    "sorted_df.head()"
   ]
  },
  {
   "cell_type": "code",
   "execution_count": null,
   "metadata": {},
   "outputs": [],
   "source": [
    "# Take a smaller sample of the dataset for easier plotting\n",
    "sample_df = sorted_df.sample(n=5)\n",
    "\n",
    "ax = sample_df.plot(x='UniqueCarrier', y='DepDelay', kind=\"bar\", figsize=(15,7))\n",
    "ax.set_title(\"The Top 5 Airlines that Occur Departure Delays Most Frequently in 2008\")\n",
    "ax.set_ylabel('Count')\n"
   ]
  },
  {
   "source": [
    "# Exercici 2 :\n",
    "\n",
    "Fes un informe complet del data set.\n",
    "\n",
    "   * Resumeix estadísticament les columnes d’interès\n",
    "   * Troba quantes dades faltants hi ha per columna\n",
    "   * Crea columnes noves (velocitat mitjana del vol, si ha arribat tard o no...)\n",
    "   * Taula de les aerolínies amb més endarreriments acumulats\n",
    "   * Quins són els vols més llargs? I els més endarrerits?\n",
    "   * Etc."
   ],
   "cell_type": "markdown",
   "metadata": {}
  },
  {
   "cell_type": "code",
   "execution_count": 42,
   "metadata": {
    "tags": []
   },
   "outputs": [],
   "source": [
    "# Create a new subset of the DataFrame\n",
    "data_set_df = DelayedFlights_df[['dest','flight_number','distance','air_time','unique_carrier','departure_time','departure_delay','arrival_time','arrival_delay','carrier_delay']]\n",
    "# Create a DataFrame\n",
    "new_data_set_df = pd.DataFrame(data_set_df)"
   ]
  },
  {
   "cell_type": "code",
   "execution_count": 43,
   "metadata": {},
   "outputs": [
    {
     "output_type": "execute_result",
     "data": {
      "text/plain": [
       "       flight_number  distance  air_time  departure_time  departure_delay  \\\n",
       "count      1247486.0 1247486.0 1247486.0       1247486.0        1247486.0   \n",
       "mean          2276.5     741.6     107.4          1558.8             59.7   \n",
       "std           1997.5     559.4      68.2           454.3             59.9   \n",
       "min              1.0      11.0       0.0             1.0              6.0   \n",
       "25%            637.0     334.0      58.0          1232.0             24.0   \n",
       "50%           1589.0     595.0      90.0          1618.0             41.0   \n",
       "75%           3676.0     972.0     136.0          1924.0             75.0   \n",
       "max           9741.0    4962.0    1091.0          2400.0           2467.0   \n",
       "\n",
       "       arrival_time  arrival_delay  carrier_delay  \n",
       "count     1247486.0      1247486.0      1247486.0  \n",
       "mean         1616.7           63.3           19.2  \n",
       "std           583.9           60.8           43.5  \n",
       "min             1.0           15.0            0.0  \n",
       "25%          1326.0           26.0            0.0  \n",
       "50%          1737.0           43.0            2.0  \n",
       "75%          2048.0           79.0           21.0  \n",
       "max          2400.0         2461.0         2436.0  "
      ],
      "text/html": "<div>\n<style scoped>\n    .dataframe tbody tr th:only-of-type {\n        vertical-align: middle;\n    }\n\n    .dataframe tbody tr th {\n        vertical-align: top;\n    }\n\n    .dataframe thead th {\n        text-align: right;\n    }\n</style>\n<table border=\"1\" class=\"dataframe\">\n  <thead>\n    <tr style=\"text-align: right;\">\n      <th></th>\n      <th>flight_number</th>\n      <th>distance</th>\n      <th>air_time</th>\n      <th>departure_time</th>\n      <th>departure_delay</th>\n      <th>arrival_time</th>\n      <th>arrival_delay</th>\n      <th>carrier_delay</th>\n    </tr>\n  </thead>\n  <tbody>\n    <tr>\n      <th>count</th>\n      <td>1247486.0</td>\n      <td>1247486.0</td>\n      <td>1247486.0</td>\n      <td>1247486.0</td>\n      <td>1247486.0</td>\n      <td>1247486.0</td>\n      <td>1247486.0</td>\n      <td>1247486.0</td>\n    </tr>\n    <tr>\n      <th>mean</th>\n      <td>2276.5</td>\n      <td>741.6</td>\n      <td>107.4</td>\n      <td>1558.8</td>\n      <td>59.7</td>\n      <td>1616.7</td>\n      <td>63.3</td>\n      <td>19.2</td>\n    </tr>\n    <tr>\n      <th>std</th>\n      <td>1997.5</td>\n      <td>559.4</td>\n      <td>68.2</td>\n      <td>454.3</td>\n      <td>59.9</td>\n      <td>583.9</td>\n      <td>60.8</td>\n      <td>43.5</td>\n    </tr>\n    <tr>\n      <th>min</th>\n      <td>1.0</td>\n      <td>11.0</td>\n      <td>0.0</td>\n      <td>1.0</td>\n      <td>6.0</td>\n      <td>1.0</td>\n      <td>15.0</td>\n      <td>0.0</td>\n    </tr>\n    <tr>\n      <th>25%</th>\n      <td>637.0</td>\n      <td>334.0</td>\n      <td>58.0</td>\n      <td>1232.0</td>\n      <td>24.0</td>\n      <td>1326.0</td>\n      <td>26.0</td>\n      <td>0.0</td>\n    </tr>\n    <tr>\n      <th>50%</th>\n      <td>1589.0</td>\n      <td>595.0</td>\n      <td>90.0</td>\n      <td>1618.0</td>\n      <td>41.0</td>\n      <td>1737.0</td>\n      <td>43.0</td>\n      <td>2.0</td>\n    </tr>\n    <tr>\n      <th>75%</th>\n      <td>3676.0</td>\n      <td>972.0</td>\n      <td>136.0</td>\n      <td>1924.0</td>\n      <td>75.0</td>\n      <td>2048.0</td>\n      <td>79.0</td>\n      <td>21.0</td>\n    </tr>\n    <tr>\n      <th>max</th>\n      <td>9741.0</td>\n      <td>4962.0</td>\n      <td>1091.0</td>\n      <td>2400.0</td>\n      <td>2467.0</td>\n      <td>2400.0</td>\n      <td>2461.0</td>\n      <td>2436.0</td>\n    </tr>\n  </tbody>\n</table>\n</div>"
     },
     "metadata": {},
     "execution_count": 43
    }
   ],
   "source": [
    "# set option to format the output\n",
    "pd.set_option('display.float_format', lambda x: '%.1f' % x)\n",
    "# display a summary of the statistics \n",
    "new_data_set_df.describe()"
   ]
  },
  {
   "source": [
    "   * Troba quantes dades faltants hi ha per columna"
   ],
   "cell_type": "markdown",
   "metadata": {}
  },
  {
   "cell_type": "code",
   "execution_count": 44,
   "metadata": {},
   "outputs": [
    {
     "output_type": "stream",
     "name": "stdout",
     "text": [
      "NaN in each columns\ndest               0\nflight_number      0\ndistance           0\nair_time           0\nunique_carrier     0\ndeparture_time     0\ndeparture_delay    0\narrival_time       0\narrival_delay      0\ncarrier_delay      0\ndtype: int64\n"
     ]
    }
   ],
   "source": [
    "# Count NaN in each column of a DataFrame\n",
    "print(\"NaN in each columns\" , new_data_set_df.isnull().sum(), sep = '\\n')"
   ]
  },
  {
   "cell_type": "code",
   "execution_count": 45,
   "metadata": {},
   "outputs": [
    {
     "output_type": "execute_result",
     "data": {
      "text/plain": [
       "   minutes  HH:MM:SS\n",
       "0    548.8  09:08:48\n",
       "1    715.2  11:55:11\n",
       "2    602.8  10:02:45"
      ],
      "text/html": "<div>\n<style scoped>\n    .dataframe tbody tr th:only-of-type {\n        vertical-align: middle;\n    }\n\n    .dataframe tbody tr th {\n        vertical-align: top;\n    }\n\n    .dataframe thead th {\n        text-align: right;\n    }\n</style>\n<table border=\"1\" class=\"dataframe\">\n  <thead>\n    <tr style=\"text-align: right;\">\n      <th></th>\n      <th>minutes</th>\n      <th>HH:MM:SS</th>\n    </tr>\n  </thead>\n  <tbody>\n    <tr>\n      <th>0</th>\n      <td>548.8</td>\n      <td>09:08:48</td>\n    </tr>\n    <tr>\n      <th>1</th>\n      <td>715.2</td>\n      <td>11:55:11</td>\n    </tr>\n    <tr>\n      <th>2</th>\n      <td>602.8</td>\n      <td>10:02:45</td>\n    </tr>\n  </tbody>\n</table>\n</div>"
     },
     "metadata": {},
     "execution_count": 45
    }
   ],
   "source": [
    "import operator\n",
    "import numpy as np\n",
    "np.random.seed(0)\n",
    "df = pd.DataFrame(np.random.rand(3) * 1000, columns=['minutes'])\n",
    "fmt = operator.methodcaller('strftime', '%H:%M:%S')\n",
    "df['HH:MM:SS'] = pd.to_datetime(df['minutes'], unit='m').map(fmt)\n",
    "df"
   ]
  },
  {
   "cell_type": "code",
   "execution_count": 46,
   "metadata": {},
   "outputs": [
    {
     "output_type": "execute_result",
     "data": {
      "text/plain": [
       "   air_time_HMS departure_time_HMS departure_delay_HMS arrival_time_HMS  \\\n",
       "4      01:17:00           06:29:00            00:34:00         08:39:00   \n",
       "6      03:50:00           08:17:00            01:07:00         09:57:00   \n",
       "11     01:47:00           03:24:00            01:34:00         06:45:00   \n",
       "16     03:33:00           00:12:00            00:27:00         03:20:00   \n",
       "18     01:50:00           22:03:00            00:28:00         01:26:00   \n",
       "\n",
       "   arrival_delay_HMS carrier_delay_HMS  \n",
       "4           00:34:00          00:02:00  \n",
       "6           00:57:00          00:10:00  \n",
       "11          01:20:00          00:08:00  \n",
       "16          00:15:00          00:03:00  \n",
       "18          00:16:00          00:00:00  "
      ],
      "text/html": "<div>\n<style scoped>\n    .dataframe tbody tr th:only-of-type {\n        vertical-align: middle;\n    }\n\n    .dataframe tbody tr th {\n        vertical-align: top;\n    }\n\n    .dataframe thead th {\n        text-align: right;\n    }\n</style>\n<table border=\"1\" class=\"dataframe\">\n  <thead>\n    <tr style=\"text-align: right;\">\n      <th></th>\n      <th>air_time_HMS</th>\n      <th>departure_time_HMS</th>\n      <th>departure_delay_HMS</th>\n      <th>arrival_time_HMS</th>\n      <th>arrival_delay_HMS</th>\n      <th>carrier_delay_HMS</th>\n    </tr>\n  </thead>\n  <tbody>\n    <tr>\n      <th>4</th>\n      <td>01:17:00</td>\n      <td>06:29:00</td>\n      <td>00:34:00</td>\n      <td>08:39:00</td>\n      <td>00:34:00</td>\n      <td>00:02:00</td>\n    </tr>\n    <tr>\n      <th>6</th>\n      <td>03:50:00</td>\n      <td>08:17:00</td>\n      <td>01:07:00</td>\n      <td>09:57:00</td>\n      <td>00:57:00</td>\n      <td>00:10:00</td>\n    </tr>\n    <tr>\n      <th>11</th>\n      <td>01:47:00</td>\n      <td>03:24:00</td>\n      <td>01:34:00</td>\n      <td>06:45:00</td>\n      <td>01:20:00</td>\n      <td>00:08:00</td>\n    </tr>\n    <tr>\n      <th>16</th>\n      <td>03:33:00</td>\n      <td>00:12:00</td>\n      <td>00:27:00</td>\n      <td>03:20:00</td>\n      <td>00:15:00</td>\n      <td>00:03:00</td>\n    </tr>\n    <tr>\n      <th>18</th>\n      <td>01:50:00</td>\n      <td>22:03:00</td>\n      <td>00:28:00</td>\n      <td>01:26:00</td>\n      <td>00:16:00</td>\n      <td>00:00:00</td>\n    </tr>\n  </tbody>\n</table>\n</div>"
     },
     "metadata": {},
     "execution_count": 46
    }
   ],
   "source": [
    "data_set_HMS_df = pd.DataFrame()\n",
    "fmt = operator.methodcaller('strftime', '%H:%M:%S')\n",
    "data_set_HMS_df['air_time_HMS'] = pd.to_datetime(new_data_set_df['air_time'], unit='m').map(fmt)\n",
    "data_set_HMS_df['departure_time_HMS'] = pd.to_datetime(new_data_set_df['departure_time'], unit='m').map(fmt)\n",
    "data_set_HMS_df['departure_delay_HMS'] = pd.to_datetime(new_data_set_df['departure_delay'], unit='m').map(fmt)\n",
    "data_set_HMS_df['arrival_time_HMS'] = pd.to_datetime(new_data_set_df['arrival_time'], unit='m').map(fmt)\n",
    "data_set_HMS_df['arrival_delay_HMS'] = pd.to_datetime(new_data_set_df['arrival_delay'], unit='m').map(fmt)\n",
    "data_set_HMS_df['carrier_delay_HMS'] = pd.to_datetime(new_data_set_df['carrier_delay'], unit='m').map(fmt)\n",
    "data_set_fmt_df = pd.DataFrame(data_set_HMS_df)\n",
    "data_set_fmt_df.head()"
   ]
  },
  {
   "source": [
    " * Crea columnes noves (velocitat mitjana del vol, si ha arribat tard o no...)"
   ],
   "cell_type": "markdown",
   "metadata": {}
  },
  {
   "cell_type": "code",
   "execution_count": 47,
   "metadata": {},
   "outputs": [
    {
     "output_type": "execute_result",
     "data": {
      "text/plain": [
       "4         645.8\n",
       "6         667.9\n",
       "11        747.2\n",
       "16        675.0\n",
       "18        735.6\n",
       "           ... \n",
       "7009705   641.8\n",
       "7009709   540.0\n",
       "7009710   729.0\n",
       "7009717   595.5\n",
       "7009718   545.3\n",
       "Name: mean_velocity, Length: 1247486, dtype: float64"
      ]
     },
     "metadata": {},
     "execution_count": 47
    }
   ],
   "source": [
    "mean_velocity_df = pd.DataFrame()\n",
    "# Conversion factor from miles to km (1.60934) and minutes to hour (60)\n",
    "mean_velocity_df['mean_velocity'] = (new_data_set_df['distance'] * 1.60934 * 60 / new_data_set_df['air_time'])\n",
    "# Print the mean velocity in km/h\n",
    "mean_velocity_df['mean_velocity']"
   ]
  },
  {
   "cell_type": "code",
   "execution_count": 48,
   "metadata": {},
   "outputs": [
    {
     "output_type": "execute_result",
     "data": {
      "text/plain": [
       "                          DAY DESTINATION  FLIGHT NUMBER  DISTANCE AIRLINE  \\\n",
       "date/time                                                                    \n",
       "2008-01-04 06:29:00    Friday         BWI           3920       515      WN   \n",
       "2008-01-04 08:17:00    Friday         LAS            509      1591      WN   \n",
       "2008-01-04 03:24:00    Friday         MCO           1333       828      WN   \n",
       "2008-01-04 00:12:00    Friday         PHX            675      1489      WN   \n",
       "2008-01-03 22:03:00  Thursday         TPA              4       838      WN   \n",
       "\n",
       "                    FLIGHT TIME DEPARTURE DEP. DELAY   ARRIVAL ARR. DELAY  \\\n",
       "date/time                                                                   \n",
       "2008-01-04 06:29:00    01:17:00  06:29:00   00:34:00  08:39:00   00:34:00   \n",
       "2008-01-04 08:17:00    03:50:00  08:17:00   01:07:00  09:57:00   00:57:00   \n",
       "2008-01-04 03:24:00    01:47:00  03:24:00   01:34:00  06:45:00   01:20:00   \n",
       "2008-01-04 00:12:00    03:33:00  00:12:00   00:27:00  03:20:00   00:15:00   \n",
       "2008-01-03 22:03:00    01:50:00  22:03:00   00:28:00  01:26:00   00:16:00   \n",
       "\n",
       "                    AIRLINE DELAY  MEAN VELOCITY  \n",
       "date/time                                         \n",
       "2008-01-04 06:29:00      00:02:00          645.8  \n",
       "2008-01-04 08:17:00      00:10:00          667.9  \n",
       "2008-01-04 03:24:00      00:08:00          747.2  \n",
       "2008-01-04 00:12:00      00:03:00          675.0  \n",
       "2008-01-03 22:03:00      00:00:00          735.6  "
      ],
      "text/html": "<div>\n<style scoped>\n    .dataframe tbody tr th:only-of-type {\n        vertical-align: middle;\n    }\n\n    .dataframe tbody tr th {\n        vertical-align: top;\n    }\n\n    .dataframe thead th {\n        text-align: right;\n    }\n</style>\n<table border=\"1\" class=\"dataframe\">\n  <thead>\n    <tr style=\"text-align: right;\">\n      <th></th>\n      <th>DAY</th>\n      <th>DESTINATION</th>\n      <th>FLIGHT NUMBER</th>\n      <th>DISTANCE</th>\n      <th>AIRLINE</th>\n      <th>FLIGHT TIME</th>\n      <th>DEPARTURE</th>\n      <th>DEP. DELAY</th>\n      <th>ARRIVAL</th>\n      <th>ARR. DELAY</th>\n      <th>AIRLINE DELAY</th>\n      <th>MEAN VELOCITY</th>\n    </tr>\n    <tr>\n      <th>date/time</th>\n      <th></th>\n      <th></th>\n      <th></th>\n      <th></th>\n      <th></th>\n      <th></th>\n      <th></th>\n      <th></th>\n      <th></th>\n      <th></th>\n      <th></th>\n      <th></th>\n    </tr>\n  </thead>\n  <tbody>\n    <tr>\n      <th>2008-01-04 06:29:00</th>\n      <td>Friday</td>\n      <td>BWI</td>\n      <td>3920</td>\n      <td>515</td>\n      <td>WN</td>\n      <td>01:17:00</td>\n      <td>06:29:00</td>\n      <td>00:34:00</td>\n      <td>08:39:00</td>\n      <td>00:34:00</td>\n      <td>00:02:00</td>\n      <td>645.8</td>\n    </tr>\n    <tr>\n      <th>2008-01-04 08:17:00</th>\n      <td>Friday</td>\n      <td>LAS</td>\n      <td>509</td>\n      <td>1591</td>\n      <td>WN</td>\n      <td>03:50:00</td>\n      <td>08:17:00</td>\n      <td>01:07:00</td>\n      <td>09:57:00</td>\n      <td>00:57:00</td>\n      <td>00:10:00</td>\n      <td>667.9</td>\n    </tr>\n    <tr>\n      <th>2008-01-04 03:24:00</th>\n      <td>Friday</td>\n      <td>MCO</td>\n      <td>1333</td>\n      <td>828</td>\n      <td>WN</td>\n      <td>01:47:00</td>\n      <td>03:24:00</td>\n      <td>01:34:00</td>\n      <td>06:45:00</td>\n      <td>01:20:00</td>\n      <td>00:08:00</td>\n      <td>747.2</td>\n    </tr>\n    <tr>\n      <th>2008-01-04 00:12:00</th>\n      <td>Friday</td>\n      <td>PHX</td>\n      <td>675</td>\n      <td>1489</td>\n      <td>WN</td>\n      <td>03:33:00</td>\n      <td>00:12:00</td>\n      <td>00:27:00</td>\n      <td>03:20:00</td>\n      <td>00:15:00</td>\n      <td>00:03:00</td>\n      <td>675.0</td>\n    </tr>\n    <tr>\n      <th>2008-01-03 22:03:00</th>\n      <td>Thursday</td>\n      <td>TPA</td>\n      <td>4</td>\n      <td>838</td>\n      <td>WN</td>\n      <td>01:50:00</td>\n      <td>22:03:00</td>\n      <td>00:28:00</td>\n      <td>01:26:00</td>\n      <td>00:16:00</td>\n      <td>00:00:00</td>\n      <td>735.6</td>\n    </tr>\n  </tbody>\n</table>\n</div>"
     },
     "metadata": {},
     "execution_count": 48
    }
   ],
   "source": [
    "pd.options.display.max_columns = 12\n",
    "flight_data_df = new_data_set_df[['dest','flight_number','distance','unique_carrier']]\n",
    "df_obj = pd.concat([date_time_df, day_of_week_name_df, flight_data_df, data_set_fmt_df,mean_velocity_df], axis=1)\n",
    "df_obj.set_index('date/time', inplace = True)\n",
    "df = df_obj.set_axis(['DAY','DESTINATION','FLIGHT NUMBER','DISTANCE','AIRLINE','FLIGHT TIME','DEPARTURE','DEP. DELAY','ARRIVAL','ARR. DELAY','AIRLINE DELAY','MEAN VELOCITY'], axis = 1)\n",
    "df.head()"
   ]
  },
  {
   "cell_type": "code",
   "execution_count": 49,
   "metadata": {},
   "outputs": [
    {
     "output_type": "execute_result",
     "data": {
      "text/plain": [
       "            AIRLINE  FLIGHT NUMBER     DELAY\n",
       "DESTINATION                                 \n",
       "BWI              WN           3920  00:34:00\n",
       "LAS              WN            509  01:07:00\n",
       "MCO              WN           1333  01:34:00\n",
       "PHX              WN            675  00:27:00\n",
       "TPA              WN              4  00:28:00\n",
       "...             ...            ...       ...\n",
       "PBI              DL           1616  00:51:00\n",
       "ATL              DL           1620  00:32:00\n",
       "ATL              DL           1621  00:30:00\n",
       "ATL              DL           1631  00:57:00\n",
       "IAH              DL           1631  01:20:00\n",
       "\n",
       "[1247486 rows x 3 columns]"
      ],
      "text/html": "<div>\n<style scoped>\n    .dataframe tbody tr th:only-of-type {\n        vertical-align: middle;\n    }\n\n    .dataframe tbody tr th {\n        vertical-align: top;\n    }\n\n    .dataframe thead th {\n        text-align: right;\n    }\n</style>\n<table border=\"1\" class=\"dataframe\">\n  <thead>\n    <tr style=\"text-align: right;\">\n      <th></th>\n      <th>AIRLINE</th>\n      <th>FLIGHT NUMBER</th>\n      <th>DELAY</th>\n    </tr>\n    <tr>\n      <th>DESTINATION</th>\n      <th></th>\n      <th></th>\n      <th></th>\n    </tr>\n  </thead>\n  <tbody>\n    <tr>\n      <th>BWI</th>\n      <td>WN</td>\n      <td>3920</td>\n      <td>00:34:00</td>\n    </tr>\n    <tr>\n      <th>LAS</th>\n      <td>WN</td>\n      <td>509</td>\n      <td>01:07:00</td>\n    </tr>\n    <tr>\n      <th>MCO</th>\n      <td>WN</td>\n      <td>1333</td>\n      <td>01:34:00</td>\n    </tr>\n    <tr>\n      <th>PHX</th>\n      <td>WN</td>\n      <td>675</td>\n      <td>00:27:00</td>\n    </tr>\n    <tr>\n      <th>TPA</th>\n      <td>WN</td>\n      <td>4</td>\n      <td>00:28:00</td>\n    </tr>\n    <tr>\n      <th>...</th>\n      <td>...</td>\n      <td>...</td>\n      <td>...</td>\n    </tr>\n    <tr>\n      <th>PBI</th>\n      <td>DL</td>\n      <td>1616</td>\n      <td>00:51:00</td>\n    </tr>\n    <tr>\n      <th>ATL</th>\n      <td>DL</td>\n      <td>1620</td>\n      <td>00:32:00</td>\n    </tr>\n    <tr>\n      <th>ATL</th>\n      <td>DL</td>\n      <td>1621</td>\n      <td>00:30:00</td>\n    </tr>\n    <tr>\n      <th>ATL</th>\n      <td>DL</td>\n      <td>1631</td>\n      <td>00:57:00</td>\n    </tr>\n    <tr>\n      <th>IAH</th>\n      <td>DL</td>\n      <td>1631</td>\n      <td>01:20:00</td>\n    </tr>\n  </tbody>\n</table>\n<p>1247486 rows × 3 columns</p>\n</div>"
     },
     "metadata": {},
     "execution_count": 49
    }
   ],
   "source": [
    "delay_bool_df = new_data_set_df['departure_delay'] > 0\n",
    "delay_df = new_data_set_df[delay_bool_df]\n",
    "import operator\n",
    "fmt = operator.methodcaller('strftime', '%H:%M:%S')\n",
    "delay_df['DELAY'] = pd.to_datetime(new_data_set_df['departure_delay'], unit='m').map(fmt)\n",
    "df = delay_df[['dest','unique_carrier','flight_number','DELAY']]\n",
    "df = df.set_axis(['DESTINATION','AIRLINE','FLIGHT NUMBER','DELAY'], axis = 1)\n",
    "df.set_index('DESTINATION', inplace=True)\n",
    "df"
   ]
  },
  {
   "cell_type": "code",
   "execution_count": 52,
   "metadata": {},
   "outputs": [
    {
     "output_type": "execute_result",
     "data": {
      "text/plain": [
       "                    arrival_HMS       delay_HMS\n",
       "departure_HMS                                  \n",
       "1 days 06:29:00 1 days 08:39:00 0 days 02:10:00\n",
       "1 days 08:17:00 1 days 09:57:00 0 days 01:40:00\n",
       "1 days 03:24:00 1 days 06:45:00 0 days 03:21:00\n",
       "1 days 00:12:00 1 days 03:20:00 0 days 03:08:00\n",
       "0 days 22:03:00 1 days 01:26:00 0 days 03:23:00\n",
       "...                         ...             ...\n",
       "0 days 15:21:00 0 days 18:32:00 0 days 03:11:00\n",
       "1 days 01:52:00 1 days 04:55:00 0 days 03:03:00\n",
       "0 days 20:50:00 1 days 02:57:00 0 days 06:07:00\n",
       "0 days 10:57:00 0 days 15:04:00 0 days 04:07:00\n",
       "0 days 16:47:00 0 days 19:09:00 0 days 02:22:00\n",
       "\n",
       "[1247486 rows x 2 columns]"
      ],
      "text/html": "<div>\n<style scoped>\n    .dataframe tbody tr th:only-of-type {\n        vertical-align: middle;\n    }\n\n    .dataframe tbody tr th {\n        vertical-align: top;\n    }\n\n    .dataframe thead th {\n        text-align: right;\n    }\n</style>\n<table border=\"1\" class=\"dataframe\">\n  <thead>\n    <tr style=\"text-align: right;\">\n      <th></th>\n      <th>arrival_HMS</th>\n      <th>delay_HMS</th>\n    </tr>\n    <tr>\n      <th>departure_HMS</th>\n      <th></th>\n      <th></th>\n    </tr>\n  </thead>\n  <tbody>\n    <tr>\n      <th>1 days 06:29:00</th>\n      <td>1 days 08:39:00</td>\n      <td>0 days 02:10:00</td>\n    </tr>\n    <tr>\n      <th>1 days 08:17:00</th>\n      <td>1 days 09:57:00</td>\n      <td>0 days 01:40:00</td>\n    </tr>\n    <tr>\n      <th>1 days 03:24:00</th>\n      <td>1 days 06:45:00</td>\n      <td>0 days 03:21:00</td>\n    </tr>\n    <tr>\n      <th>1 days 00:12:00</th>\n      <td>1 days 03:20:00</td>\n      <td>0 days 03:08:00</td>\n    </tr>\n    <tr>\n      <th>0 days 22:03:00</th>\n      <td>1 days 01:26:00</td>\n      <td>0 days 03:23:00</td>\n    </tr>\n    <tr>\n      <th>...</th>\n      <td>...</td>\n      <td>...</td>\n    </tr>\n    <tr>\n      <th>0 days 15:21:00</th>\n      <td>0 days 18:32:00</td>\n      <td>0 days 03:11:00</td>\n    </tr>\n    <tr>\n      <th>1 days 01:52:00</th>\n      <td>1 days 04:55:00</td>\n      <td>0 days 03:03:00</td>\n    </tr>\n    <tr>\n      <th>0 days 20:50:00</th>\n      <td>1 days 02:57:00</td>\n      <td>0 days 06:07:00</td>\n    </tr>\n    <tr>\n      <th>0 days 10:57:00</th>\n      <td>0 days 15:04:00</td>\n      <td>0 days 04:07:00</td>\n    </tr>\n    <tr>\n      <th>0 days 16:47:00</th>\n      <td>0 days 19:09:00</td>\n      <td>0 days 02:22:00</td>\n    </tr>\n  </tbody>\n</table>\n<p>1247486 rows × 2 columns</p>\n</div>"
     },
     "metadata": {},
     "execution_count": 52
    }
   ],
   "source": [
    "temp_df = pd.DataFrame()\n",
    "temp_df['departure_HMS'] = pd.to_timedelta(new_data_set_df['departure_time'], unit='m')\n",
    "temp_df['arrival_HMS']   = pd.to_timedelta(new_data_set_df['arrival_time'], unit='m')\n",
    "temp_df['delay_HMS']     = temp_df['arrival_HMS'] - temp_df['departure_HMS']\n",
    "temp_df.set_index('departure_HMS', inplace=True)\n",
    "temp_df"
   ]
  },
  {
   "source": [
    "  * Taula de les aerolínies amb més endarreriments acumulats"
   ],
   "cell_type": "markdown",
   "metadata": {}
  },
  {
   "cell_type": "code",
   "execution_count": 50,
   "metadata": {},
   "outputs": [
    {
     "output_type": "execute_result",
     "data": {
      "text/plain": [
       "    year  month  day  day_of_week  departure_time  crs_departure_time  ...  \\\n",
       "4   2008      1    3            4          1829.0                1755  ...   \n",
       "6   2008      1    3            4          1937.0                1830  ...   \n",
       "11  2008      1    3            4          1644.0                1510  ...   \n",
       "16  2008      1    3            4          1452.0                1425  ...   \n",
       "18  2008      1    3            4          1323.0                1255  ...   \n",
       "\n",
       "    diverted  carrier_delay weather_delay  nas_delay security_delay  \\\n",
       "4          0            2.0           0.0        0.0            0.0   \n",
       "6          0           10.0           0.0        0.0            0.0   \n",
       "11         0            8.0           0.0        0.0            0.0   \n",
       "16         0            3.0           0.0        0.0            0.0   \n",
       "18         0            0.0           0.0        0.0            0.0   \n",
       "\n",
       "    late_aircraft_delay  \n",
       "4                  32.0  \n",
       "6                  47.0  \n",
       "11                 72.0  \n",
       "16                 12.0  \n",
       "18                 16.0  \n",
       "\n",
       "[5 rows x 29 columns]"
      ],
      "text/html": "<div>\n<style scoped>\n    .dataframe tbody tr th:only-of-type {\n        vertical-align: middle;\n    }\n\n    .dataframe tbody tr th {\n        vertical-align: top;\n    }\n\n    .dataframe thead th {\n        text-align: right;\n    }\n</style>\n<table border=\"1\" class=\"dataframe\">\n  <thead>\n    <tr style=\"text-align: right;\">\n      <th></th>\n      <th>year</th>\n      <th>month</th>\n      <th>day</th>\n      <th>day_of_week</th>\n      <th>departure_time</th>\n      <th>crs_departure_time</th>\n      <th>...</th>\n      <th>diverted</th>\n      <th>carrier_delay</th>\n      <th>weather_delay</th>\n      <th>nas_delay</th>\n      <th>security_delay</th>\n      <th>late_aircraft_delay</th>\n    </tr>\n  </thead>\n  <tbody>\n    <tr>\n      <th>4</th>\n      <td>2008</td>\n      <td>1</td>\n      <td>3</td>\n      <td>4</td>\n      <td>1829.0</td>\n      <td>1755</td>\n      <td>...</td>\n      <td>0</td>\n      <td>2.0</td>\n      <td>0.0</td>\n      <td>0.0</td>\n      <td>0.0</td>\n      <td>32.0</td>\n    </tr>\n    <tr>\n      <th>6</th>\n      <td>2008</td>\n      <td>1</td>\n      <td>3</td>\n      <td>4</td>\n      <td>1937.0</td>\n      <td>1830</td>\n      <td>...</td>\n      <td>0</td>\n      <td>10.0</td>\n      <td>0.0</td>\n      <td>0.0</td>\n      <td>0.0</td>\n      <td>47.0</td>\n    </tr>\n    <tr>\n      <th>11</th>\n      <td>2008</td>\n      <td>1</td>\n      <td>3</td>\n      <td>4</td>\n      <td>1644.0</td>\n      <td>1510</td>\n      <td>...</td>\n      <td>0</td>\n      <td>8.0</td>\n      <td>0.0</td>\n      <td>0.0</td>\n      <td>0.0</td>\n      <td>72.0</td>\n    </tr>\n    <tr>\n      <th>16</th>\n      <td>2008</td>\n      <td>1</td>\n      <td>3</td>\n      <td>4</td>\n      <td>1452.0</td>\n      <td>1425</td>\n      <td>...</td>\n      <td>0</td>\n      <td>3.0</td>\n      <td>0.0</td>\n      <td>0.0</td>\n      <td>0.0</td>\n      <td>12.0</td>\n    </tr>\n    <tr>\n      <th>18</th>\n      <td>2008</td>\n      <td>1</td>\n      <td>3</td>\n      <td>4</td>\n      <td>1323.0</td>\n      <td>1255</td>\n      <td>...</td>\n      <td>0</td>\n      <td>0.0</td>\n      <td>0.0</td>\n      <td>0.0</td>\n      <td>0.0</td>\n      <td>16.0</td>\n    </tr>\n  </tbody>\n</table>\n<p>5 rows × 29 columns</p>\n</div>"
     },
     "metadata": {},
     "execution_count": 50
    }
   ],
   "source": [
    "# filtering with query method\n",
    "# CarrierDelay : Delay, in minutes, attributable to the carrier (stored integer).\n",
    "DelayedFlights_df.query('carrier_delay == True')\n",
    "# display\n",
    "DelayedFlights_df.head()"
   ]
  },
  {
   "cell_type": "code",
   "execution_count": 51,
   "metadata": {},
   "outputs": [
    {
     "output_type": "execute_result",
     "data": {
      "text/plain": [
       "         DELAY\n",
       "AIRLINE       \n",
       "NW      2436.0\n",
       "MQ      1707.0\n",
       "AA      1312.0\n",
       "FL      1175.0\n",
       "9E      1127.0"
      ],
      "text/html": "<div>\n<style scoped>\n    .dataframe tbody tr th:only-of-type {\n        vertical-align: middle;\n    }\n\n    .dataframe tbody tr th {\n        vertical-align: top;\n    }\n\n    .dataframe thead th {\n        text-align: right;\n    }\n</style>\n<table border=\"1\" class=\"dataframe\">\n  <thead>\n    <tr style=\"text-align: right;\">\n      <th></th>\n      <th>DELAY</th>\n    </tr>\n    <tr>\n      <th>AIRLINE</th>\n      <th></th>\n    </tr>\n  </thead>\n  <tbody>\n    <tr>\n      <th>NW</th>\n      <td>2436.0</td>\n    </tr>\n    <tr>\n      <th>MQ</th>\n      <td>1707.0</td>\n    </tr>\n    <tr>\n      <th>AA</th>\n      <td>1312.0</td>\n    </tr>\n    <tr>\n      <th>FL</th>\n      <td>1175.0</td>\n    </tr>\n    <tr>\n      <th>9E</th>\n      <td>1127.0</td>\n    </tr>\n  </tbody>\n</table>\n</div>"
     },
     "metadata": {},
     "execution_count": 51
    }
   ],
   "source": [
    "Top5CarrierDelay_df = DelayedFlights_df[['unique_carrier','carrier_delay']].copy()\n",
    "sorted_df = Top5CarrierDelay_df.sort_values(by=['carrier_delay'], ascending = False, inplace = False).groupby('unique_carrier').head(1)\n",
    "sorted_df = sorted_df.set_axis(['AIRLINE','DELAY'], axis = 1)\n",
    "sorted_df.set_index('AIRLINE', inplace=True)\n",
    "sorted_df.head()"
   ]
  },
  {
   "cell_type": "code",
   "execution_count": null,
   "metadata": {},
   "outputs": [],
   "source": []
  },
  {
   "source": [
    "* Quins són els vols més llargs? I els més endarrerits?"
   ],
   "cell_type": "markdown",
   "metadata": {}
  },
  {
   "source": [
    "| Origin | Destination | Distance |\n",
    "|:---:|:---:|:---:|\n",
    "| EWR\t| HNL | 4962 |\n",
    "| HNL\t| EWR | 4962 |\n",
    "| ATL\t| HNL | 4502 |\n",
    "| ORD\t| HNL | 4243 |\n",
    "| KOA\t| ORD | 4213 |"
   ],
   "cell_type": "markdown",
   "metadata": {}
  },
  {
   "cell_type": "code",
   "execution_count": 55,
   "metadata": {},
   "outputs": [
    {
     "output_type": "execute_result",
     "data": {
      "text/plain": [
       "        origin dest  distance\n",
       "4794521    JFK  AUS      1522\n",
       "826445     ORD  BOS       867\n",
       "3278081    CLT  PHX      1774\n",
       "3470189    TYS  DTW       443\n",
       "6566864    IAH  BNA       657\n",
       "950010     ROC  ATL       749\n",
       "4162428    FAI  ANC       261\n",
       "5745281    CVG  DFW       812\n",
       "3337632    ATL  BTR       449\n",
       "510696     ORD  TUS      1437"
      ],
      "text/html": "<div>\n<style scoped>\n    .dataframe tbody tr th:only-of-type {\n        vertical-align: middle;\n    }\n\n    .dataframe tbody tr th {\n        vertical-align: top;\n    }\n\n    .dataframe thead th {\n        text-align: right;\n    }\n</style>\n<table border=\"1\" class=\"dataframe\">\n  <thead>\n    <tr style=\"text-align: right;\">\n      <th></th>\n      <th>origin</th>\n      <th>dest</th>\n      <th>distance</th>\n    </tr>\n  </thead>\n  <tbody>\n    <tr>\n      <th>4794521</th>\n      <td>JFK</td>\n      <td>AUS</td>\n      <td>1522</td>\n    </tr>\n    <tr>\n      <th>826445</th>\n      <td>ORD</td>\n      <td>BOS</td>\n      <td>867</td>\n    </tr>\n    <tr>\n      <th>3278081</th>\n      <td>CLT</td>\n      <td>PHX</td>\n      <td>1774</td>\n    </tr>\n    <tr>\n      <th>3470189</th>\n      <td>TYS</td>\n      <td>DTW</td>\n      <td>443</td>\n    </tr>\n    <tr>\n      <th>6566864</th>\n      <td>IAH</td>\n      <td>BNA</td>\n      <td>657</td>\n    </tr>\n    <tr>\n      <th>950010</th>\n      <td>ROC</td>\n      <td>ATL</td>\n      <td>749</td>\n    </tr>\n    <tr>\n      <th>4162428</th>\n      <td>FAI</td>\n      <td>ANC</td>\n      <td>261</td>\n    </tr>\n    <tr>\n      <th>5745281</th>\n      <td>CVG</td>\n      <td>DFW</td>\n      <td>812</td>\n    </tr>\n    <tr>\n      <th>3337632</th>\n      <td>ATL</td>\n      <td>BTR</td>\n      <td>449</td>\n    </tr>\n    <tr>\n      <th>510696</th>\n      <td>ORD</td>\n      <td>TUS</td>\n      <td>1437</td>\n    </tr>\n  </tbody>\n</table>\n</div>"
     },
     "metadata": {},
     "execution_count": 55
    }
   ],
   "source": [
    "set_data_df = DelayedFlights_df[['origin','dest','distance']].copy()\n",
    "#show_data_df = set_data_df.query(\"origin == dest\")\n",
    "set_data_df.sample(n = 10)\n",
    "#DelayedFlights_df['origin']== DelayedFlights_df['dest']\n",
    "#sorted_flights_df = set_data_df.sort_values(by=['distance'], ascending = True, inplace = False).groupby('distance').max()\n",
    "#groupby_data_df = set_data_df.groupby('distance').max()\n",
    "#groupby_data_df\n",
    "#sorted_flights_df = groupby_data_df.sort_values(by=['distance'], ascending = False, inplace = False)\n",
    "#sorted_flights_df.head(10)"
   ]
  },
  {
   "cell_type": "code",
   "execution_count": 66,
   "metadata": {},
   "outputs": [
    {
     "output_type": "execute_result",
     "data": {
      "text/plain": [
       "       DESTINATION  DISTANCE\n",
       "ORIGIN                      \n",
       "EWR            HNL      4962\n",
       "HNL            EWR      4962\n",
       "ATL            HNL      4502\n",
       "ORD            HNL      4243\n",
       "KOA            ORD      4213"
      ],
      "text/html": "<div>\n<style scoped>\n    .dataframe tbody tr th:only-of-type {\n        vertical-align: middle;\n    }\n\n    .dataframe tbody tr th {\n        vertical-align: top;\n    }\n\n    .dataframe thead th {\n        text-align: right;\n    }\n</style>\n<table border=\"1\" class=\"dataframe\">\n  <thead>\n    <tr style=\"text-align: right;\">\n      <th></th>\n      <th>DESTINATION</th>\n      <th>DISTANCE</th>\n    </tr>\n    <tr>\n      <th>ORIGIN</th>\n      <th></th>\n      <th></th>\n    </tr>\n  </thead>\n  <tbody>\n    <tr>\n      <th>EWR</th>\n      <td>HNL</td>\n      <td>4962</td>\n    </tr>\n    <tr>\n      <th>HNL</th>\n      <td>EWR</td>\n      <td>4962</td>\n    </tr>\n    <tr>\n      <th>ATL</th>\n      <td>HNL</td>\n      <td>4502</td>\n    </tr>\n    <tr>\n      <th>ORD</th>\n      <td>HNL</td>\n      <td>4243</td>\n    </tr>\n    <tr>\n      <th>KOA</th>\n      <td>ORD</td>\n      <td>4213</td>\n    </tr>\n  </tbody>\n</table>\n</div>"
     },
     "metadata": {},
     "execution_count": 66
    }
   ],
   "source": [
    "Top5flightDistance_df = DelayedFlights_df[['origin','dest','distance']].copy()\n",
    "sorted_flights_df = Top5flightDistance_df.sort_values(by=['distance'], ascending = False, inplace = False).groupby('origin').head(1)\n",
    "sorted_flights_df = sorted_flights_df.set_axis(['ORIGIN','DESTINATION','DISTANCE'], axis = 1)\n",
    "sorted_flights_df.set_index('ORIGIN', inplace=True)\n",
    "sorted_flights_df.head()"
   ]
  },
  {
   "source": [
    "Exercici 3 :\n",
    "Exporta el data set net i amb les noves columnes a Excel."
   ],
   "cell_type": "markdown",
   "metadata": {}
  },
  {
   "source": [
    "# Converting back to a CSV\n",
    "\n",
    "Finally, after extensive work cleaning the data, we are ready to save it as a new CSV file similar to how we read the data with pandas."
   ],
   "cell_type": "markdown",
   "metadata": {}
  },
  {
   "cell_type": "code",
   "execution_count": null,
   "metadata": {},
   "outputs": [],
   "source": [
    "DelayedFlights_df.to_csv('new_DelayedFlights_df.csv')"
   ]
  },
  {
   "cell_type": "code",
   "execution_count": null,
   "metadata": {},
   "outputs": [],
   "source": []
  }
 ]
}